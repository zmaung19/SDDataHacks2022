{
 "cells": [
  {
   "cell_type": "code",
   "execution_count": 2,
   "id": "0b0cf7f1",
   "metadata": {},
   "outputs": [],
   "source": [
    "import pandas as pd\n",
    "import numpy as np\n",
    "import matplotlib.pyplot as plt\n",
    "import os\n",
    "import seaborn as sns"
   ]
  },
  {
   "cell_type": "code",
   "execution_count": 3,
   "id": "7580cb01",
   "metadata": {},
   "outputs": [],
   "source": [
    "# Read in the data\n",
    "data = pd.read_csv(os.path.join('data', 'intermediate_trainset.csv'))\n",
    "data.columns = ['episode', 'business_name', 'business_desc', 'deal', 'deal_shark']"
   ]
  },
  {
   "cell_type": "code",
   "execution_count": 14,
   "id": "41e2f655",
   "metadata": {},
   "outputs": [],
   "source": [
    "# Processing business name to be uniform and free of punctuation marks\n",
    "data['name_length'] = data.business_name.apply(lambda x: len(x))\n",
    "data['desc_length'] = data.business_desc.apply(lambda x: len(x))\n",
    "data['name_word_len'] = data.business_name.apply(lambda x: len(x.split()))\n",
    "data['desc_word_len'] = data.business_desc.apply(lambda x: len(x.split()))\n",
    "\n",
    "data['business_name_processed'] = (\n",
    "    data.business_name\n",
    "        .str.lower()\n",
    "        .str.replace(r\"['-.]\", '', regex=True)\n",
    "        .str.replace(r'&', 'and', regex=True)\n",
    ")\n",
    "\n",
    "data['business_desc_processed'] = (\n",
    "    data.business_desc\n",
    "        .str.lower()\n",
    "        .str.replace(r\"['-.]\", '', regex=True)\n",
    "        .str.replace(r'&', 'and', regex=True)\n",
    ")\n",
    "\n",
    "data['season'] = (data['episode'] / 100).astype(int)\n",
    "data['episode'] = (data['episode'] % 100)\n",
    "\n",
    "data['episode_bin'] = data.episode.apply(lambda x: np.floor(x / 100) * 100)"
   ]
  },
  {
   "cell_type": "code",
   "execution_count": 15,
   "id": "b77b79f4",
   "metadata": {},
   "outputs": [
    {
     "data": {
      "text/html": [
       "<div>\n",
       "<style scoped>\n",
       "    .dataframe tbody tr th:only-of-type {\n",
       "        vertical-align: middle;\n",
       "    }\n",
       "\n",
       "    .dataframe tbody tr th {\n",
       "        vertical-align: top;\n",
       "    }\n",
       "\n",
       "    .dataframe thead th {\n",
       "        text-align: right;\n",
       "    }\n",
       "</style>\n",
       "<table border=\"1\" class=\"dataframe\">\n",
       "  <thead>\n",
       "    <tr style=\"text-align: right;\">\n",
       "      <th></th>\n",
       "      <th>episode</th>\n",
       "      <th>business_name</th>\n",
       "      <th>business_desc</th>\n",
       "      <th>deal</th>\n",
       "      <th>deal_shark</th>\n",
       "      <th>name_length</th>\n",
       "      <th>desc_length</th>\n",
       "      <th>name_word_len</th>\n",
       "      <th>desc_word_len</th>\n",
       "      <th>business_name_processed</th>\n",
       "      <th>business_desc_processed</th>\n",
       "      <th>episode_bin</th>\n",
       "      <th>detailedness</th>\n",
       "      <th>season</th>\n",
       "    </tr>\n",
       "  </thead>\n",
       "  <tbody>\n",
       "    <tr>\n",
       "      <th>0</th>\n",
       "      <td>26</td>\n",
       "      <td>Laid Brand</td>\n",
       "      <td>hair-care products made with pheromones . Laid...</td>\n",
       "      <td>0</td>\n",
       "      <td>NaN</td>\n",
       "      <td>10</td>\n",
       "      <td>233</td>\n",
       "      <td>2</td>\n",
       "      <td>34</td>\n",
       "      <td>laid brand</td>\n",
       "      <td>haircare products made with pheromones  laid b...</td>\n",
       "      <td>0.0</td>\n",
       "      <td>68</td>\n",
       "      <td>8</td>\n",
       "    </tr>\n",
       "    <tr>\n",
       "      <th>1</th>\n",
       "      <td>26</td>\n",
       "      <td>Wine &amp; Design</td>\n",
       "      <td>painting classes with wine served . Wine &amp; Des...</td>\n",
       "      <td>1</td>\n",
       "      <td>KOL</td>\n",
       "      <td>13</td>\n",
       "      <td>245</td>\n",
       "      <td>3</td>\n",
       "      <td>38</td>\n",
       "      <td>wine and design</td>\n",
       "      <td>painting classes with wine served  wine and de...</td>\n",
       "      <td>0.0</td>\n",
       "      <td>114</td>\n",
       "      <td>8</td>\n",
       "    </tr>\n",
       "    <tr>\n",
       "      <th>2</th>\n",
       "      <td>24</td>\n",
       "      <td>Peoples Design</td>\n",
       "      <td>a mixing bowl with a built-in scoop . Peoples ...</td>\n",
       "      <td>1</td>\n",
       "      <td>LG</td>\n",
       "      <td>14</td>\n",
       "      <td>284</td>\n",
       "      <td>2</td>\n",
       "      <td>44</td>\n",
       "      <td>peoples design</td>\n",
       "      <td>a mixing bowl with a builtin scoop  peoples de...</td>\n",
       "      <td>0.0</td>\n",
       "      <td>88</td>\n",
       "      <td>8</td>\n",
       "    </tr>\n",
       "    <tr>\n",
       "      <th>3</th>\n",
       "      <td>24</td>\n",
       "      <td>Rumi Spice</td>\n",
       "      <td>saffron imported from Afghanistan . Rumi Spice...</td>\n",
       "      <td>1</td>\n",
       "      <td>MC</td>\n",
       "      <td>10</td>\n",
       "      <td>238</td>\n",
       "      <td>2</td>\n",
       "      <td>37</td>\n",
       "      <td>rumi spice</td>\n",
       "      <td>saffron imported from afghanistan  rumi spice ...</td>\n",
       "      <td>0.0</td>\n",
       "      <td>74</td>\n",
       "      <td>8</td>\n",
       "    </tr>\n",
       "    <tr>\n",
       "      <th>4</th>\n",
       "      <td>24</td>\n",
       "      <td>Wallet Buckle</td>\n",
       "      <td>a belt buckle that holds credit cards . The Wa...</td>\n",
       "      <td>1</td>\n",
       "      <td>RH</td>\n",
       "      <td>13</td>\n",
       "      <td>195</td>\n",
       "      <td>2</td>\n",
       "      <td>36</td>\n",
       "      <td>wallet buckle</td>\n",
       "      <td>a belt buckle that holds credit cards  the wal...</td>\n",
       "      <td>0.0</td>\n",
       "      <td>72</td>\n",
       "      <td>8</td>\n",
       "    </tr>\n",
       "    <tr>\n",
       "      <th>...</th>\n",
       "      <td>...</td>\n",
       "      <td>...</td>\n",
       "      <td>...</td>\n",
       "      <td>...</td>\n",
       "      <td>...</td>\n",
       "      <td>...</td>\n",
       "      <td>...</td>\n",
       "      <td>...</td>\n",
       "      <td>...</td>\n",
       "      <td>...</td>\n",
       "      <td>...</td>\n",
       "      <td>...</td>\n",
       "      <td>...</td>\n",
       "      <td>...</td>\n",
       "    </tr>\n",
       "    <tr>\n",
       "      <th>525</th>\n",
       "      <td>2</td>\n",
       "      <td>Sticky Note Holder</td>\n",
       "      <td>a Post-It note arm for laptops . a Post-It not...</td>\n",
       "      <td>0</td>\n",
       "      <td>NaN</td>\n",
       "      <td>18</td>\n",
       "      <td>63</td>\n",
       "      <td>3</td>\n",
       "      <td>13</td>\n",
       "      <td>sticky note holder</td>\n",
       "      <td>a postit note arm for laptops  a postit note a...</td>\n",
       "      <td>0.0</td>\n",
       "      <td>39</td>\n",
       "      <td>1</td>\n",
       "    </tr>\n",
       "    <tr>\n",
       "      <th>526</th>\n",
       "      <td>1</td>\n",
       "      <td>College Foxes Packing Boxes</td>\n",
       "      <td>a packing and organizing service based on an a...</td>\n",
       "      <td>0</td>\n",
       "      <td>NaN</td>\n",
       "      <td>27</td>\n",
       "      <td>260</td>\n",
       "      <td>4</td>\n",
       "      <td>39</td>\n",
       "      <td>college foxes packing boxes</td>\n",
       "      <td>a packing and organizing service based on an a...</td>\n",
       "      <td>0.0</td>\n",
       "      <td>156</td>\n",
       "      <td>1</td>\n",
       "    </tr>\n",
       "    <tr>\n",
       "      <th>527</th>\n",
       "      <td>1</td>\n",
       "      <td>Ionic Ear</td>\n",
       "      <td>an implantable Bluetooth device requiring surg...</td>\n",
       "      <td>0</td>\n",
       "      <td>NaN</td>\n",
       "      <td>9</td>\n",
       "      <td>158</td>\n",
       "      <td>2</td>\n",
       "      <td>24</td>\n",
       "      <td>ionic ear</td>\n",
       "      <td>an implantable bluetooth device requiring surg...</td>\n",
       "      <td>0.0</td>\n",
       "      <td>48</td>\n",
       "      <td>1</td>\n",
       "    </tr>\n",
       "    <tr>\n",
       "      <th>528</th>\n",
       "      <td>1</td>\n",
       "      <td>Mr. Tod's Pie Factory</td>\n",
       "      <td>a pie company</td>\n",
       "      <td>1</td>\n",
       "      <td>BC+DJ</td>\n",
       "      <td>21</td>\n",
       "      <td>14</td>\n",
       "      <td>4</td>\n",
       "      <td>3</td>\n",
       "      <td>mr tods pie factory</td>\n",
       "      <td>a pie company</td>\n",
       "      <td>0.0</td>\n",
       "      <td>12</td>\n",
       "      <td>1</td>\n",
       "    </tr>\n",
       "    <tr>\n",
       "      <th>529</th>\n",
       "      <td>1</td>\n",
       "      <td>Wispots</td>\n",
       "      <td>an electronic hand-held device for waiting roo...</td>\n",
       "      <td>0</td>\n",
       "      <td>NaN</td>\n",
       "      <td>7</td>\n",
       "      <td>99</td>\n",
       "      <td>1</td>\n",
       "      <td>15</td>\n",
       "      <td>wispots</td>\n",
       "      <td>an electronic handheld device for waiting room...</td>\n",
       "      <td>0.0</td>\n",
       "      <td>15</td>\n",
       "      <td>1</td>\n",
       "    </tr>\n",
       "  </tbody>\n",
       "</table>\n",
       "<p>530 rows × 14 columns</p>\n",
       "</div>"
      ],
      "text/plain": [
       "     episode                business_name  \\\n",
       "0         26                   Laid Brand   \n",
       "1         26                Wine & Design   \n",
       "2         24               Peoples Design   \n",
       "3         24                   Rumi Spice   \n",
       "4         24                Wallet Buckle   \n",
       "..       ...                          ...   \n",
       "525        2           Sticky Note Holder   \n",
       "526        1  College Foxes Packing Boxes   \n",
       "527        1                    Ionic Ear   \n",
       "528        1        Mr. Tod's Pie Factory   \n",
       "529        1                      Wispots   \n",
       "\n",
       "                                         business_desc  deal deal_shark  \\\n",
       "0    hair-care products made with pheromones . Laid...     0        NaN   \n",
       "1    painting classes with wine served . Wine & Des...     1        KOL   \n",
       "2    a mixing bowl with a built-in scoop . Peoples ...     1         LG   \n",
       "3    saffron imported from Afghanistan . Rumi Spice...     1         MC   \n",
       "4    a belt buckle that holds credit cards . The Wa...     1         RH   \n",
       "..                                                 ...   ...        ...   \n",
       "525  a Post-It note arm for laptops . a Post-It not...     0        NaN   \n",
       "526  a packing and organizing service based on an a...     0        NaN   \n",
       "527  an implantable Bluetooth device requiring surg...     0        NaN   \n",
       "528                                     a pie company      1      BC+DJ   \n",
       "529  an electronic hand-held device for waiting roo...     0        NaN   \n",
       "\n",
       "     name_length  desc_length  name_word_len  desc_word_len  \\\n",
       "0             10          233              2             34   \n",
       "1             13          245              3             38   \n",
       "2             14          284              2             44   \n",
       "3             10          238              2             37   \n",
       "4             13          195              2             36   \n",
       "..           ...          ...            ...            ...   \n",
       "525           18           63              3             13   \n",
       "526           27          260              4             39   \n",
       "527            9          158              2             24   \n",
       "528           21           14              4              3   \n",
       "529            7           99              1             15   \n",
       "\n",
       "         business_name_processed  \\\n",
       "0                     laid brand   \n",
       "1                wine and design   \n",
       "2                 peoples design   \n",
       "3                     rumi spice   \n",
       "4                  wallet buckle   \n",
       "..                           ...   \n",
       "525           sticky note holder   \n",
       "526  college foxes packing boxes   \n",
       "527                    ionic ear   \n",
       "528          mr tods pie factory   \n",
       "529                      wispots   \n",
       "\n",
       "                               business_desc_processed  episode_bin  \\\n",
       "0    haircare products made with pheromones  laid b...          0.0   \n",
       "1    painting classes with wine served  wine and de...          0.0   \n",
       "2    a mixing bowl with a builtin scoop  peoples de...          0.0   \n",
       "3    saffron imported from afghanistan  rumi spice ...          0.0   \n",
       "4    a belt buckle that holds credit cards  the wal...          0.0   \n",
       "..                                                 ...          ...   \n",
       "525  a postit note arm for laptops  a postit note a...          0.0   \n",
       "526  a packing and organizing service based on an a...          0.0   \n",
       "527  an implantable bluetooth device requiring surg...          0.0   \n",
       "528                                     a pie company           0.0   \n",
       "529  an electronic handheld device for waiting room...          0.0   \n",
       "\n",
       "     detailedness  season  \n",
       "0              68       8  \n",
       "1             114       8  \n",
       "2              88       8  \n",
       "3              74       8  \n",
       "4              72       8  \n",
       "..            ...     ...  \n",
       "525            39       1  \n",
       "526           156       1  \n",
       "527            48       1  \n",
       "528            12       1  \n",
       "529            15       1  \n",
       "\n",
       "[530 rows x 14 columns]"
      ]
     },
     "execution_count": 15,
     "metadata": {},
     "output_type": "execute_result"
    }
   ],
   "source": [
    "data"
   ]
  },
  {
   "cell_type": "code",
   "execution_count": 6,
   "id": "ffc22dad",
   "metadata": {
    "scrolled": false
   },
   "outputs": [],
   "source": [
    "data['detailedness'] = data.name_word_len * data.desc_word_len"
   ]
  },
  {
   "cell_type": "code",
   "execution_count": 19,
   "id": "ba492be3",
   "metadata": {},
   "outputs": [
    {
     "data": {
      "text/plain": [
       "<AxesSubplot:xlabel='season', ylabel='detailedness'>"
      ]
     },
     "execution_count": 19,
     "metadata": {},
     "output_type": "execute_result"
    },
    {
     "data": {
      "image/png": "[encoded data removed]",
      "text/plain": [
       "<Figure size 432x288 with 1 Axes>"
      ]
     },
     "metadata": {
      "needs_background": "light"
     },
     "output_type": "display_data"
    }
   ],
   "source": [
    "sns.scatterplot(data=data, x='season', y='detailedness', hue='deal', alpha=.5, palette={0:'tab:red', 1:'tab:green'})"
   ]
  },
  {
   "cell_type": "code",
   "execution_count": 9,
   "id": "7cb9170d",
   "metadata": {},
   "outputs": [
    {
     "data": {
      "text/plain": [
       "<AxesSubplot:ylabel='Frequency'>"
      ]
     },
     "execution_count": 9,
     "metadata": {},
     "output_type": "execute_result"
    },
    {
     "data": {
      "image/png": "[encoded data removed]",
      "text/plain": [
       "<Figure size 432x288 with 1 Axes>"
      ]
     },
     "metadata": {
      "needs_background": "light"
     },
     "output_type": "display_data"
    }
   ],
   "source": [
    "data.plot(kind='hist', x='deal', y='episode', stacked=True)"
   ]
  },
  {
   "cell_type": "code",
   "execution_count": 10,
   "id": "1d8ba603",
   "metadata": {},
   "outputs": [
    {
     "data": {
      "text/plain": [
       "<AxesSubplot:xlabel='Episode Bin (Episode / 100)'>"
      ]
     },
     "execution_count": 10,
     "metadata": {},
     "output_type": "execute_result"
    },
    {
     "data": {
      "image/png": "[encoded data removed]",
      "text/plain": [
       "<Figure size 432x288 with 1 Axes>"
      ]
     },
     "metadata": {
      "needs_background": "light"
     },
     "output_type": "display_data"
    }
   ],
   "source": [
    "data.groupby('episode_bin').mean().plot(kind='bar', y='deal', xlabel='Episode Bin (Episode / 100)')"
   ]
  },
  {
   "cell_type": "code",
   "execution_count": null,
   "id": "21cdf4f0",
   "metadata": {},
   "outputs": [],
   "source": []
  }
 ],
 "metadata": {
  "kernelspec": {
   "display_name": "Python 3",
   "language": "python",
   "name": "python3"
  },
  "language_info": {
   "codemirror_mode": {
    "name": "ipython",
    "version": 3
   },
   "file_extension": ".py",
   "mimetype": "text/x-python",
   "name": "python",
   "nbconvert_exporter": "python",
   "pygments_lexer": "ipython3",
   "version": "3.8.5"
  }
 },
 "nbformat": 4,
 "nbformat_minor": 5
}
