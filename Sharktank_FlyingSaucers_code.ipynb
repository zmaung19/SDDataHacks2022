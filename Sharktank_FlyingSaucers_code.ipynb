{
 "cells": [
  {
   "cell_type": "markdown",
   "id": "837661ed",
   "metadata": {},
   "source": [
    "# DataHacks 2022 Intermediate track - Code for visualization and model"
   ]
  },
  {
   "cell_type": "code",
   "execution_count": 185,
   "id": "c2d5c589",
   "metadata": {},
   "outputs": [],
   "source": [
    "import pandas as pd\n",
    "import os\n",
    "import seaborn as sns\n",
    "import numpy as np\n",
    "from sklearn.feature_extraction.text import CountVectorizer\n",
    "from sklearn.feature_extraction.text import TfidfTransformer\n",
    "from sklearn.model_selection import train_test_split\n",
    "from sklearn.compose import ColumnTransformer\n",
    "from sklearn.preprocessing import FunctionTransformer\n",
    "from sklearn.pipeline import Pipeline\n",
    "from scipy.sparse import hstack, csr_matrix"
   ]
  },
  {
   "cell_type": "markdown",
   "id": "b0efe614",
   "metadata": {},
   "source": [
    "## EDA Section"
   ]
  },
  {
   "cell_type": "code",
   "execution_count": 187,
   "id": "7fea17dc",
   "metadata": {},
   "outputs": [
    {
     "data": {
      "text/html": [
       "<div>\n",
       "<style scoped>\n",
       "    .dataframe tbody tr th:only-of-type {\n",
       "        vertical-align: middle;\n",
       "    }\n",
       "\n",
       "    .dataframe tbody tr th {\n",
       "        vertical-align: top;\n",
       "    }\n",
       "\n",
       "    .dataframe thead th {\n",
       "        text-align: right;\n",
       "    }\n",
       "</style>\n",
       "<table border=\"1\" class=\"dataframe\">\n",
       "  <thead>\n",
       "    <tr style=\"text-align: right;\">\n",
       "      <th></th>\n",
       "      <th>episode</th>\n",
       "      <th>business_name</th>\n",
       "      <th>business_desc</th>\n",
       "      <th>deal</th>\n",
       "      <th>deal_shark</th>\n",
       "      <th>name_length</th>\n",
       "      <th>desc_length</th>\n",
       "      <th>name_word_len</th>\n",
       "      <th>desc_word_len</th>\n",
       "      <th>business_name_processed</th>\n",
       "      <th>business_desc_processed</th>\n",
       "      <th>season</th>\n",
       "      <th>episode_bin</th>\n",
       "      <th>detailedness</th>\n",
       "    </tr>\n",
       "  </thead>\n",
       "  <tbody>\n",
       "    <tr>\n",
       "      <th>0</th>\n",
       "      <td>26</td>\n",
       "      <td>Laid Brand</td>\n",
       "      <td>hair-care products made with pheromones . Laid...</td>\n",
       "      <td>0</td>\n",
       "      <td>NaN</td>\n",
       "      <td>10</td>\n",
       "      <td>233</td>\n",
       "      <td>2</td>\n",
       "      <td>34</td>\n",
       "      <td>laid brand</td>\n",
       "      <td>haircare products made with pheromones  laid b...</td>\n",
       "      <td>8</td>\n",
       "      <td>0.0</td>\n",
       "      <td>68</td>\n",
       "    </tr>\n",
       "    <tr>\n",
       "      <th>1</th>\n",
       "      <td>26</td>\n",
       "      <td>Wine &amp; Design</td>\n",
       "      <td>painting classes with wine served . Wine &amp; Des...</td>\n",
       "      <td>1</td>\n",
       "      <td>KOL</td>\n",
       "      <td>13</td>\n",
       "      <td>245</td>\n",
       "      <td>3</td>\n",
       "      <td>38</td>\n",
       "      <td>wine and design</td>\n",
       "      <td>painting classes with wine served  wine and de...</td>\n",
       "      <td>8</td>\n",
       "      <td>0.0</td>\n",
       "      <td>114</td>\n",
       "    </tr>\n",
       "    <tr>\n",
       "      <th>2</th>\n",
       "      <td>24</td>\n",
       "      <td>Peoples Design</td>\n",
       "      <td>a mixing bowl with a built-in scoop . Peoples ...</td>\n",
       "      <td>1</td>\n",
       "      <td>LG</td>\n",
       "      <td>14</td>\n",
       "      <td>284</td>\n",
       "      <td>2</td>\n",
       "      <td>44</td>\n",
       "      <td>peoples design</td>\n",
       "      <td>a mixing bowl with a builtin scoop  peoples de...</td>\n",
       "      <td>8</td>\n",
       "      <td>0.0</td>\n",
       "      <td>88</td>\n",
       "    </tr>\n",
       "    <tr>\n",
       "      <th>3</th>\n",
       "      <td>24</td>\n",
       "      <td>Rumi Spice</td>\n",
       "      <td>saffron imported from Afghanistan . Rumi Spice...</td>\n",
       "      <td>1</td>\n",
       "      <td>MC</td>\n",
       "      <td>10</td>\n",
       "      <td>238</td>\n",
       "      <td>2</td>\n",
       "      <td>37</td>\n",
       "      <td>rumi spice</td>\n",
       "      <td>saffron imported from afghanistan  rumi spice ...</td>\n",
       "      <td>8</td>\n",
       "      <td>0.0</td>\n",
       "      <td>74</td>\n",
       "    </tr>\n",
       "    <tr>\n",
       "      <th>4</th>\n",
       "      <td>24</td>\n",
       "      <td>Wallet Buckle</td>\n",
       "      <td>a belt buckle that holds credit cards . The Wa...</td>\n",
       "      <td>1</td>\n",
       "      <td>RH</td>\n",
       "      <td>13</td>\n",
       "      <td>195</td>\n",
       "      <td>2</td>\n",
       "      <td>36</td>\n",
       "      <td>wallet buckle</td>\n",
       "      <td>a belt buckle that holds credit cards  the wal...</td>\n",
       "      <td>8</td>\n",
       "      <td>0.0</td>\n",
       "      <td>72</td>\n",
       "    </tr>\n",
       "    <tr>\n",
       "      <th>...</th>\n",
       "      <td>...</td>\n",
       "      <td>...</td>\n",
       "      <td>...</td>\n",
       "      <td>...</td>\n",
       "      <td>...</td>\n",
       "      <td>...</td>\n",
       "      <td>...</td>\n",
       "      <td>...</td>\n",
       "      <td>...</td>\n",
       "      <td>...</td>\n",
       "      <td>...</td>\n",
       "      <td>...</td>\n",
       "      <td>...</td>\n",
       "      <td>...</td>\n",
       "    </tr>\n",
       "    <tr>\n",
       "      <th>525</th>\n",
       "      <td>2</td>\n",
       "      <td>Sticky Note Holder</td>\n",
       "      <td>a Post-It note arm for laptops . a Post-It not...</td>\n",
       "      <td>0</td>\n",
       "      <td>NaN</td>\n",
       "      <td>18</td>\n",
       "      <td>63</td>\n",
       "      <td>3</td>\n",
       "      <td>13</td>\n",
       "      <td>sticky note holder</td>\n",
       "      <td>a postit note arm for laptops  a postit note a...</td>\n",
       "      <td>1</td>\n",
       "      <td>0.0</td>\n",
       "      <td>39</td>\n",
       "    </tr>\n",
       "    <tr>\n",
       "      <th>526</th>\n",
       "      <td>1</td>\n",
       "      <td>College Foxes Packing Boxes</td>\n",
       "      <td>a packing and organizing service based on an a...</td>\n",
       "      <td>0</td>\n",
       "      <td>NaN</td>\n",
       "      <td>27</td>\n",
       "      <td>260</td>\n",
       "      <td>4</td>\n",
       "      <td>39</td>\n",
       "      <td>college foxes packing boxes</td>\n",
       "      <td>a packing and organizing service based on an a...</td>\n",
       "      <td>1</td>\n",
       "      <td>0.0</td>\n",
       "      <td>156</td>\n",
       "    </tr>\n",
       "    <tr>\n",
       "      <th>527</th>\n",
       "      <td>1</td>\n",
       "      <td>Ionic Ear</td>\n",
       "      <td>an implantable Bluetooth device requiring surg...</td>\n",
       "      <td>0</td>\n",
       "      <td>NaN</td>\n",
       "      <td>9</td>\n",
       "      <td>158</td>\n",
       "      <td>2</td>\n",
       "      <td>24</td>\n",
       "      <td>ionic ear</td>\n",
       "      <td>an implantable bluetooth device requiring surg...</td>\n",
       "      <td>1</td>\n",
       "      <td>0.0</td>\n",
       "      <td>48</td>\n",
       "    </tr>\n",
       "    <tr>\n",
       "      <th>528</th>\n",
       "      <td>1</td>\n",
       "      <td>Mr. Tod's Pie Factory</td>\n",
       "      <td>a pie company</td>\n",
       "      <td>1</td>\n",
       "      <td>BC+DJ</td>\n",
       "      <td>21</td>\n",
       "      <td>14</td>\n",
       "      <td>4</td>\n",
       "      <td>3</td>\n",
       "      <td>mr tods pie factory</td>\n",
       "      <td>a pie company</td>\n",
       "      <td>1</td>\n",
       "      <td>0.0</td>\n",
       "      <td>12</td>\n",
       "    </tr>\n",
       "    <tr>\n",
       "      <th>529</th>\n",
       "      <td>1</td>\n",
       "      <td>Wispots</td>\n",
       "      <td>an electronic hand-held device for waiting roo...</td>\n",
       "      <td>0</td>\n",
       "      <td>NaN</td>\n",
       "      <td>7</td>\n",
       "      <td>99</td>\n",
       "      <td>1</td>\n",
       "      <td>15</td>\n",
       "      <td>wispots</td>\n",
       "      <td>an electronic handheld device for waiting room...</td>\n",
       "      <td>1</td>\n",
       "      <td>0.0</td>\n",
       "      <td>15</td>\n",
       "    </tr>\n",
       "  </tbody>\n",
       "</table>\n",
       "<p>530 rows × 14 columns</p>\n",
       "</div>"
      ],
      "text/plain": [
       "     episode                business_name  \\\n",
       "0         26                   Laid Brand   \n",
       "1         26                Wine & Design   \n",
       "2         24               Peoples Design   \n",
       "3         24                   Rumi Spice   \n",
       "4         24                Wallet Buckle   \n",
       "..       ...                          ...   \n",
       "525        2           Sticky Note Holder   \n",
       "526        1  College Foxes Packing Boxes   \n",
       "527        1                    Ionic Ear   \n",
       "528        1        Mr. Tod's Pie Factory   \n",
       "529        1                      Wispots   \n",
       "\n",
       "                                         business_desc  deal deal_shark  \\\n",
       "0    hair-care products made with pheromones . Laid...     0        NaN   \n",
       "1    painting classes with wine served . Wine & Des...     1        KOL   \n",
       "2    a mixing bowl with a built-in scoop . Peoples ...     1         LG   \n",
       "3    saffron imported from Afghanistan . Rumi Spice...     1         MC   \n",
       "4    a belt buckle that holds credit cards . The Wa...     1         RH   \n",
       "..                                                 ...   ...        ...   \n",
       "525  a Post-It note arm for laptops . a Post-It not...     0        NaN   \n",
       "526  a packing and organizing service based on an a...     0        NaN   \n",
       "527  an implantable Bluetooth device requiring surg...     0        NaN   \n",
       "528                                     a pie company      1      BC+DJ   \n",
       "529  an electronic hand-held device for waiting roo...     0        NaN   \n",
       "\n",
       "     name_length  desc_length  name_word_len  desc_word_len  \\\n",
       "0             10          233              2             34   \n",
       "1             13          245              3             38   \n",
       "2             14          284              2             44   \n",
       "3             10          238              2             37   \n",
       "4             13          195              2             36   \n",
       "..           ...          ...            ...            ...   \n",
       "525           18           63              3             13   \n",
       "526           27          260              4             39   \n",
       "527            9          158              2             24   \n",
       "528           21           14              4              3   \n",
       "529            7           99              1             15   \n",
       "\n",
       "         business_name_processed  \\\n",
       "0                     laid brand   \n",
       "1                wine and design   \n",
       "2                 peoples design   \n",
       "3                     rumi spice   \n",
       "4                  wallet buckle   \n",
       "..                           ...   \n",
       "525           sticky note holder   \n",
       "526  college foxes packing boxes   \n",
       "527                    ionic ear   \n",
       "528          mr tods pie factory   \n",
       "529                      wispots   \n",
       "\n",
       "                               business_desc_processed  season  episode_bin  \\\n",
       "0    haircare products made with pheromones  laid b...       8          0.0   \n",
       "1    painting classes with wine served  wine and de...       8          0.0   \n",
       "2    a mixing bowl with a builtin scoop  peoples de...       8          0.0   \n",
       "3    saffron imported from afghanistan  rumi spice ...       8          0.0   \n",
       "4    a belt buckle that holds credit cards  the wal...       8          0.0   \n",
       "..                                                 ...     ...          ...   \n",
       "525  a postit note arm for laptops  a postit note a...       1          0.0   \n",
       "526  a packing and organizing service based on an a...       1          0.0   \n",
       "527  an implantable bluetooth device requiring surg...       1          0.0   \n",
       "528                                     a pie company        1          0.0   \n",
       "529  an electronic handheld device for waiting room...       1          0.0   \n",
       "\n",
       "     detailedness  \n",
       "0              68  \n",
       "1             114  \n",
       "2              88  \n",
       "3              74  \n",
       "4              72  \n",
       "..            ...  \n",
       "525            39  \n",
       "526           156  \n",
       "527            48  \n",
       "528            12  \n",
       "529            15  \n",
       "\n",
       "[530 rows x 14 columns]"
      ]
     },
     "execution_count": 187,
     "metadata": {},
     "output_type": "execute_result"
    }
   ],
   "source": [
    "# Read in the data\n",
    "data = pd.read_csv(os.path.join('data', 'intermediate_trainset.csv'))\n",
    "data.columns = ['episode', 'business_name', 'business_desc', 'deal', 'deal_shark']\n",
    "\n",
    "# Processing business name to be uniform and free of punctuation marks\n",
    "data['name_length'] = data.business_name.apply(lambda x: len(x))\n",
    "data['desc_length'] = data.business_desc.apply(lambda x: len(x))\n",
    "data['name_word_len'] = data.business_name.apply(lambda x: len(x.split()))\n",
    "data['desc_word_len'] = data.business_desc.apply(lambda x: len(x.split()))\n",
    "\n",
    "data['business_name_processed'] = (\n",
    "    data.business_name\n",
    "        .str.lower()\n",
    "        .str.replace(r\"['-.]\", '', regex=True)\n",
    "        .str.replace(r'&', 'and', regex=True)\n",
    ")\n",
    "\n",
    "data['business_desc_processed'] = (\n",
    "    data.business_desc\n",
    "        .str.lower()\n",
    "        .str.replace(r\"['-.]\", '', regex=True)\n",
    "        .str.replace(r'&', 'and', regex=True)\n",
    ")\n",
    "\n",
    "data['season'] = (data['episode'] / 100).astype(int)\n",
    "data['episode'] = (data['episode'] % 100)\n",
    "\n",
    "data['episode_bin'] = data.episode.apply(lambda x: np.floor(x / 100) * 100)\n",
    "data['detailedness'] = data.name_word_len * data.desc_word_len\n",
    "\n",
    "data"
   ]
  },
  {
   "cell_type": "code",
   "execution_count": 188,
   "id": "1d32f663",
   "metadata": {},
   "outputs": [
    {
     "data": {
      "text/plain": [
       "<AxesSubplot:xlabel='season', ylabel='detailedness'>"
      ]
     },
     "execution_count": 188,
     "metadata": {},
     "output_type": "execute_result"
    },
    {
     "data": {
      "image/png": "[encoded data removed]",
      "text/plain": [
       "<Figure size 432x288 with 1 Axes>"
      ]
     },
     "metadata": {
      "needs_background": "light"
     },
     "output_type": "display_data"
    }
   ],
   "source": [
    "sns.scatterplot(data=data, x='season', y='detailedness', hue='deal', alpha=.5, palette={0:'tab:red', 1:'tab:green'})"
   ]
  },
  {
   "cell_type": "code",
   "execution_count": 189,
   "id": "42aa46d8",
   "metadata": {},
   "outputs": [
    {
     "data": {
      "text/plain": [
       "<AxesSubplot:ylabel='Frequency'>"
      ]
     },
     "execution_count": 189,
     "metadata": {},
     "output_type": "execute_result"
    },
    {
     "data": {
      "image/png": "[encoded data removed]",
      "text/plain": [
       "<Figure size 432x288 with 1 Axes>"
      ]
     },
     "metadata": {
      "needs_background": "light"
     },
     "output_type": "display_data"
    }
   ],
   "source": [
    "data.plot(kind='hist', x='deal', y='episode', stacked=True)"
   ]
  },
  {
   "cell_type": "markdown",
   "id": "68b47ed4",
   "metadata": {},
   "source": [
    "This notebook is meant for testing multiple machine learning models in the Datahacks 2022 Intermediate Track."
   ]
  },
  {
   "cell_type": "code",
   "execution_count": 184,
   "id": "21a97166",
   "metadata": {},
   "outputs": [],
   "source": []
  },
  {
   "cell_type": "code",
   "execution_count": 150,
   "id": "3e530b51",
   "metadata": {},
   "outputs": [],
   "source": [
    "from collections import Counter\n",
    "from nltk.tokenize import word_tokenize\n",
    "from nltk.corpus import stopwords\n",
    "import nltk"
   ]
  },
  {
   "cell_type": "code",
   "execution_count": 151,
   "id": "8549dbce",
   "metadata": {},
   "outputs": [
    {
     "name": "stderr",
     "output_type": "stream",
     "text": [
      "[nltk_data] Downloading package stopwords to\n",
      "[nltk_data]     C:\\Users\\alexa\\AppData\\Roaming\\nltk_data...\n",
      "[nltk_data]   Package stopwords is already up-to-date!\n"
     ]
    },
    {
     "data": {
      "text/plain": [
       "True"
      ]
     },
     "execution_count": 151,
     "metadata": {},
     "output_type": "execute_result"
    }
   ],
   "source": [
    "nltk.download('stopwords')"
   ]
  },
  {
   "cell_type": "code",
   "execution_count": 152,
   "id": "ca27108e",
   "metadata": {},
   "outputs": [],
   "source": [
    "stop = stopwords.words('english')"
   ]
  },
  {
   "cell_type": "code",
   "execution_count": 153,
   "id": "fef40aa6",
   "metadata": {},
   "outputs": [],
   "source": [
    "sharktank = pd.read_csv(os.path.join('data', 'intermediate_trainset.csv')).drop(columns=['Deal_Shark'])\n",
    "sharktank['Pitched_Business_Identifier'] = (\n",
    "    sharktank.Pitched_Business_Identifier\n",
    "        .str.lower()\n",
    "        .str.replace(r\"['-.\\\"]\", '', regex=True)\n",
    "        .str.replace(r'&', 'and', regex=True)\n",
    ")\n",
    "\n",
    "sharktank['Pitched_Business_Desc'] = (\n",
    "    sharktank['Pitched_Business_Desc']\n",
    "        .str.lower()\n",
    "        .str.replace(r\"['-.\\\"]\", '', regex=True)\n",
    "        .str.replace(r'&', 'and', regex=True)\n",
    "        .str.replace(r'\\s+a\\s+', ' ', regex=True)\n",
    "        .str.replace(r'\\s+an\\s+', ' ', regex=True)\n",
    "        .str.replace(r'^a\\s', '', regex=True)\n",
    "        .str.replace(r'^an\\s', '', regex=True)\n",
    ")\n",
    "\n",
    "sharktank['Pitched_Business_Desc'] = (\n",
    "    sharktank.Pitched_Business_Desc\n",
    "        .apply(lambda x: ' '.join([word for word in x.split() if word not in (stop)]))\n",
    ")"
   ]
  },
  {
   "cell_type": "code",
   "execution_count": 154,
   "id": "e3401b93",
   "metadata": {},
   "outputs": [
    {
     "data": {
      "text/html": [
       "<div>\n",
       "<style scoped>\n",
       "    .dataframe tbody tr th:only-of-type {\n",
       "        vertical-align: middle;\n",
       "    }\n",
       "\n",
       "    .dataframe tbody tr th {\n",
       "        vertical-align: top;\n",
       "    }\n",
       "\n",
       "    .dataframe thead th {\n",
       "        text-align: right;\n",
       "    }\n",
       "</style>\n",
       "<table border=\"1\" class=\"dataframe\">\n",
       "  <thead>\n",
       "    <tr style=\"text-align: right;\">\n",
       "      <th></th>\n",
       "      <th>Season_Epi_code</th>\n",
       "      <th>Pitched_Business_Identifier</th>\n",
       "      <th>Pitched_Business_Desc</th>\n",
       "      <th>Deal_Status</th>\n",
       "    </tr>\n",
       "  </thead>\n",
       "  <tbody>\n",
       "    <tr>\n",
       "      <th>0</th>\n",
       "      <td>826</td>\n",
       "      <td>laid brand</td>\n",
       "      <td>haircare products made pheromones laid brand â...</td>\n",
       "      <td>0</td>\n",
       "    </tr>\n",
       "    <tr>\n",
       "      <th>1</th>\n",
       "      <td>826</td>\n",
       "      <td>wine and design</td>\n",
       "      <td>painting classes wine served wine design provi...</td>\n",
       "      <td>1</td>\n",
       "    </tr>\n",
       "    <tr>\n",
       "      <th>2</th>\n",
       "      <td>824</td>\n",
       "      <td>peoples design</td>\n",
       "      <td>mixing bowl builtin scoop peoples designs scoo...</td>\n",
       "      <td>1</td>\n",
       "    </tr>\n",
       "    <tr>\n",
       "      <th>3</th>\n",
       "      <td>824</td>\n",
       "      <td>rumi spice</td>\n",
       "      <td>saffron imported afghanistan rumi spice offers...</td>\n",
       "      <td>1</td>\n",
       "    </tr>\n",
       "    <tr>\n",
       "      <th>4</th>\n",
       "      <td>824</td>\n",
       "      <td>wallet buckle</td>\n",
       "      <td>belt buckle holds credit cards wallet buckle m...</td>\n",
       "      <td>1</td>\n",
       "    </tr>\n",
       "    <tr>\n",
       "      <th>...</th>\n",
       "      <td>...</td>\n",
       "      <td>...</td>\n",
       "      <td>...</td>\n",
       "      <td>...</td>\n",
       "    </tr>\n",
       "    <tr>\n",
       "      <th>525</th>\n",
       "      <td>102</td>\n",
       "      <td>sticky note holder</td>\n",
       "      <td>postit note arm laptops postit note arm laptops</td>\n",
       "      <td>0</td>\n",
       "    </tr>\n",
       "    <tr>\n",
       "      <th>526</th>\n",
       "      <td>101</td>\n",
       "      <td>college foxes packing boxes</td>\n",
       "      <td>packing organizing service based already succe...</td>\n",
       "      <td>0</td>\n",
       "    </tr>\n",
       "    <tr>\n",
       "      <th>527</th>\n",
       "      <td>101</td>\n",
       "      <td>ionic ear</td>\n",
       "      <td>implantable bluetooth device requiring surgery...</td>\n",
       "      <td>0</td>\n",
       "    </tr>\n",
       "    <tr>\n",
       "      <th>528</th>\n",
       "      <td>101</td>\n",
       "      <td>mr tods pie factory</td>\n",
       "      <td>pie company</td>\n",
       "      <td>1</td>\n",
       "    </tr>\n",
       "    <tr>\n",
       "      <th>529</th>\n",
       "      <td>101</td>\n",
       "      <td>wispots</td>\n",
       "      <td>electronic handheld device waiting rooms elect...</td>\n",
       "      <td>0</td>\n",
       "    </tr>\n",
       "  </tbody>\n",
       "</table>\n",
       "<p>530 rows × 4 columns</p>\n",
       "</div>"
      ],
      "text/plain": [
       "     Season_Epi_code  Pitched_Business_Identifier  \\\n",
       "0                826                   laid brand   \n",
       "1                826              wine and design   \n",
       "2                824               peoples design   \n",
       "3                824                   rumi spice   \n",
       "4                824                wallet buckle   \n",
       "..               ...                          ...   \n",
       "525              102           sticky note holder   \n",
       "526              101  college foxes packing boxes   \n",
       "527              101                    ionic ear   \n",
       "528              101          mr tods pie factory   \n",
       "529              101                      wispots   \n",
       "\n",
       "                                 Pitched_Business_Desc  Deal_Status  \n",
       "0    haircare products made pheromones laid brand â...            0  \n",
       "1    painting classes wine served wine design provi...            1  \n",
       "2    mixing bowl builtin scoop peoples designs scoo...            1  \n",
       "3    saffron imported afghanistan rumi spice offers...            1  \n",
       "4    belt buckle holds credit cards wallet buckle m...            1  \n",
       "..                                                 ...          ...  \n",
       "525    postit note arm laptops postit note arm laptops            0  \n",
       "526  packing organizing service based already succe...            0  \n",
       "527  implantable bluetooth device requiring surgery...            0  \n",
       "528                                        pie company            1  \n",
       "529  electronic handheld device waiting rooms elect...            0  \n",
       "\n",
       "[530 rows x 4 columns]"
      ]
     },
     "execution_count": 154,
     "metadata": {},
     "output_type": "execute_result"
    }
   ],
   "source": [
    "sharktank"
   ]
  },
  {
   "cell_type": "code",
   "execution_count": 155,
   "id": "029a856e",
   "metadata": {},
   "outputs": [],
   "source": [
    "sharktank['detailedness'] = (\n",
    "    sharktank.Pitched_Business_Desc.apply(lambda x: len(x.split())) *\n",
    "    sharktank.Pitched_Business_Identifier.apply(lambda x: len(x.split()))\n",
    ")"
   ]
  },
  {
   "cell_type": "code",
   "execution_count": 156,
   "id": "66b5bbc0",
   "metadata": {},
   "outputs": [
    {
     "data": {
      "text/html": [
       "<div>\n",
       "<style scoped>\n",
       "    .dataframe tbody tr th:only-of-type {\n",
       "        vertical-align: middle;\n",
       "    }\n",
       "\n",
       "    .dataframe tbody tr th {\n",
       "        vertical-align: top;\n",
       "    }\n",
       "\n",
       "    .dataframe thead th {\n",
       "        text-align: right;\n",
       "    }\n",
       "</style>\n",
       "<table border=\"1\" class=\"dataframe\">\n",
       "  <thead>\n",
       "    <tr style=\"text-align: right;\">\n",
       "      <th></th>\n",
       "      <th>Season_Epi_code</th>\n",
       "      <th>Pitched_Business_Identifier</th>\n",
       "      <th>Pitched_Business_Desc</th>\n",
       "      <th>detailedness</th>\n",
       "    </tr>\n",
       "  </thead>\n",
       "  <tbody>\n",
       "    <tr>\n",
       "      <th>0</th>\n",
       "      <td>826</td>\n",
       "      <td>laid brand</td>\n",
       "      <td>haircare products made pheromones laid brand â...</td>\n",
       "      <td>50</td>\n",
       "    </tr>\n",
       "    <tr>\n",
       "      <th>1</th>\n",
       "      <td>826</td>\n",
       "      <td>wine and design</td>\n",
       "      <td>painting classes wine served wine design provi...</td>\n",
       "      <td>72</td>\n",
       "    </tr>\n",
       "    <tr>\n",
       "      <th>2</th>\n",
       "      <td>824</td>\n",
       "      <td>peoples design</td>\n",
       "      <td>mixing bowl builtin scoop peoples designs scoo...</td>\n",
       "      <td>60</td>\n",
       "    </tr>\n",
       "    <tr>\n",
       "      <th>3</th>\n",
       "      <td>824</td>\n",
       "      <td>rumi spice</td>\n",
       "      <td>saffron imported afghanistan rumi spice offers...</td>\n",
       "      <td>48</td>\n",
       "    </tr>\n",
       "    <tr>\n",
       "      <th>4</th>\n",
       "      <td>824</td>\n",
       "      <td>wallet buckle</td>\n",
       "      <td>belt buckle holds credit cards wallet buckle m...</td>\n",
       "      <td>42</td>\n",
       "    </tr>\n",
       "    <tr>\n",
       "      <th>...</th>\n",
       "      <td>...</td>\n",
       "      <td>...</td>\n",
       "      <td>...</td>\n",
       "      <td>...</td>\n",
       "    </tr>\n",
       "    <tr>\n",
       "      <th>525</th>\n",
       "      <td>102</td>\n",
       "      <td>sticky note holder</td>\n",
       "      <td>postit note arm laptops postit note arm laptops</td>\n",
       "      <td>24</td>\n",
       "    </tr>\n",
       "    <tr>\n",
       "      <th>526</th>\n",
       "      <td>101</td>\n",
       "      <td>college foxes packing boxes</td>\n",
       "      <td>packing organizing service based already succe...</td>\n",
       "      <td>116</td>\n",
       "    </tr>\n",
       "    <tr>\n",
       "      <th>527</th>\n",
       "      <td>101</td>\n",
       "      <td>ionic ear</td>\n",
       "      <td>implantable bluetooth device requiring surgery...</td>\n",
       "      <td>30</td>\n",
       "    </tr>\n",
       "    <tr>\n",
       "      <th>528</th>\n",
       "      <td>101</td>\n",
       "      <td>mr tods pie factory</td>\n",
       "      <td>pie company</td>\n",
       "      <td>8</td>\n",
       "    </tr>\n",
       "    <tr>\n",
       "      <th>529</th>\n",
       "      <td>101</td>\n",
       "      <td>wispots</td>\n",
       "      <td>electronic handheld device waiting rooms elect...</td>\n",
       "      <td>10</td>\n",
       "    </tr>\n",
       "  </tbody>\n",
       "</table>\n",
       "<p>530 rows × 4 columns</p>\n",
       "</div>"
      ],
      "text/plain": [
       "     Season_Epi_code  Pitched_Business_Identifier  \\\n",
       "0                826                   laid brand   \n",
       "1                826              wine and design   \n",
       "2                824               peoples design   \n",
       "3                824                   rumi spice   \n",
       "4                824                wallet buckle   \n",
       "..               ...                          ...   \n",
       "525              102           sticky note holder   \n",
       "526              101  college foxes packing boxes   \n",
       "527              101                    ionic ear   \n",
       "528              101          mr tods pie factory   \n",
       "529              101                      wispots   \n",
       "\n",
       "                                 Pitched_Business_Desc  detailedness  \n",
       "0    haircare products made pheromones laid brand â...            50  \n",
       "1    painting classes wine served wine design provi...            72  \n",
       "2    mixing bowl builtin scoop peoples designs scoo...            60  \n",
       "3    saffron imported afghanistan rumi spice offers...            48  \n",
       "4    belt buckle holds credit cards wallet buckle m...            42  \n",
       "..                                                 ...           ...  \n",
       "525    postit note arm laptops postit note arm laptops            24  \n",
       "526  packing organizing service based already succe...           116  \n",
       "527  implantable bluetooth device requiring surgery...            30  \n",
       "528                                        pie company             8  \n",
       "529  electronic handheld device waiting rooms elect...            10  \n",
       "\n",
       "[530 rows x 4 columns]"
      ]
     },
     "execution_count": 156,
     "metadata": {},
     "output_type": "execute_result"
    }
   ],
   "source": [
    "y_labels = sharktank.Deal_Status\n",
    "x = sharktank.drop(columns=['Deal_Status'])\n",
    "x"
   ]
  },
  {
   "cell_type": "code",
   "execution_count": 157,
   "id": "4e1dfe68",
   "metadata": {},
   "outputs": [
    {
     "data": {
      "text/plain": [
       "<424x4129 sparse matrix of type '<class 'numpy.float64'>'\n",
       "\twith 7604 stored elements in COOrdinate format>"
      ]
     },
     "execution_count": 157,
     "metadata": {},
     "output_type": "execute_result"
    }
   ],
   "source": [
    "# Pipeline for transforming features\n",
    "def feature_transform(business_id_trans, business_desc_trans, features):\n",
    "    # Transform the features respectively\n",
    "    id_vector = business_id_trans.transform(features['Pitched_Business_Identifier'])\n",
    "    desc_vector = business_desc_trans.transform(features['Pitched_Business_Desc'])\n",
    "    #print(type(id_vector))\n",
    "    #print(desc_vector)\n",
    "    final_vector = hstack([id_vector, desc_vector, csr_matrix(features.detailedness).transpose()])\n",
    "    return final_vector\n",
    "\n",
    "# General column transformer for model selection\n",
    "id_pipe = Pipeline([\n",
    "    ('vectorizer', CountVectorizer()),\n",
    "    ('tf-idf', TfidfTransformer())\n",
    "])\n",
    "\n",
    "desc_pipe = Pipeline([\n",
    "    ('vectorizer', CountVectorizer()),\n",
    "    ('tf-idf', TfidfTransformer())\n",
    "])\n",
    "\n",
    "x_train, x_test, y_train, y_test = train_test_split(x, y_labels, test_size=.2, shuffle=True)\n",
    "id_pipe.fit_transform(x_train.Pitched_Business_Identifier)\n",
    "desc_pipe.fit_transform(x_train.Pitched_Business_Desc)\n",
    "\n",
    "x_train_features = feature_transform(id_pipe, desc_pipe, x_train)\n",
    "x_train_features"
   ]
  },
  {
   "cell_type": "code",
   "execution_count": 158,
   "id": "fe3ca59d",
   "metadata": {},
   "outputs": [],
   "source": [
    "#Models we wish to try out\n",
    "from sklearn.naive_bayes import MultinomialNB"
   ]
  },
  {
   "cell_type": "code",
   "execution_count": 159,
   "id": "99024b6f",
   "metadata": {},
   "outputs": [
    {
     "data": {
      "text/plain": [
       "MultinomialNB()"
      ]
     },
     "execution_count": 159,
     "metadata": {},
     "output_type": "execute_result"
    }
   ],
   "source": [
    "naive_model = MultinomialNB()\n",
    "naive_model.fit(x_train_features, y_train)"
   ]
  },
  {
   "cell_type": "code",
   "execution_count": 160,
   "id": "0b3adc9e",
   "metadata": {
    "scrolled": true
   },
   "outputs": [
    {
     "data": {
      "text/plain": [
       "0.5660377358490566"
      ]
     },
     "execution_count": 160,
     "metadata": {},
     "output_type": "execute_result"
    }
   ],
   "source": [
    "np.mean(y_test == naive_model.predict(feature_transform(id_pipe, desc_pipe, x_test)))"
   ]
  },
  {
   "cell_type": "code",
   "execution_count": 161,
   "id": "03b8f090",
   "metadata": {},
   "outputs": [
    {
     "data": {
      "text/plain": [
       "0.49056603773584906"
      ]
     },
     "execution_count": 161,
     "metadata": {},
     "output_type": "execute_result"
    }
   ],
   "source": [
    "from sklearn.neighbors import KNeighborsClassifier\n",
    "# Kneighbors classifier\n",
    "knn = KNeighborsClassifier(n_neighbors=4).fit(x_train_features, y_train)\n",
    "np.mean(y_test == knn.predict(feature_transform(id_pipe, desc_pipe, x_test)))"
   ]
  },
  {
   "cell_type": "code",
   "execution_count": 162,
   "id": "b8a8d639",
   "metadata": {},
   "outputs": [],
   "source": [
    "from sklearn.linear_model import SGDClassifier\n",
    "# Attempt to create a svm model instead\n",
    "svm_model = SGDClassifier().fit(x_train_features, y_train)"
   ]
  },
  {
   "cell_type": "code",
   "execution_count": 163,
   "id": "a4256ec7",
   "metadata": {},
   "outputs": [],
   "source": [
    "# Logistic Regression\n",
    "from sklearn.linear_model import LogisticRegression\n",
    "log_model = LogisticRegression().fit(x_train_features, y_train)"
   ]
  },
  {
   "cell_type": "markdown",
   "id": "1831d742",
   "metadata": {},
   "source": [
    "# Model Evaluations"
   ]
  },
  {
   "cell_type": "code",
   "execution_count": 164,
   "id": "78f53520",
   "metadata": {},
   "outputs": [],
   "source": [
    "from sklearn.metrics import confusion_matrix, f1_score"
   ]
  },
  {
   "cell_type": "code",
   "execution_count": 165,
   "id": "f2e85eb1",
   "metadata": {},
   "outputs": [
    {
     "name": "stdout",
     "output_type": "stream",
     "text": [
      "Model: Naive Bayes\n",
      "Accuracy: 0.5367924528301886\n",
      "F1-score: 0.6949859567562577\n",
      "\n",
      "Model: SVM\n",
      "Accuracy: 0.5146226415094339\n",
      "F1-score: 0.3999114806950127\n",
      "\n",
      "Model: Logistic Regression\n",
      "Accuracy: 0.5382075471698112\n",
      "F1-score: 0.5998424583267377\n",
      "\n",
      "Model: KNearestNeighbors\n",
      "Accuracy: 0.49047169811320757\n",
      "F1-score: 0.43957434134376205\n",
      "\n"
     ]
    }
   ],
   "source": [
    "models = [naive_model, svm_model, log_model, knn]\n",
    "labels = ['Naive Bayes', 'SVM', 'Logistic Regression', 'KNearestNeighbors']\n",
    "acc_scores = {k:[] for k in labels}\n",
    "f1_scores = {k:[] for k in labels}\n",
    "base_pred = []\n",
    "for _ in range(100):\n",
    "    x_train, x_test, y_train, y_test = train_test_split(x, y_labels, test_size=.2, shuffle=True)\n",
    "    id_pipe.fit(x_train.Pitched_Business_Identifier)\n",
    "    desc_pipe.fit(x_train.Pitched_Business_Desc)\n",
    "    x_train_features = feature_transform(id_pipe, desc_pipe, x_train)\n",
    "    base_pred.append(y_test.mean())\n",
    "    for model, label in zip(models, labels):\n",
    "        # Fit model\n",
    "        model.fit(x_train_features, y_train)\n",
    "        predictions = model.predict(feature_transform(id_pipe, desc_pipe, x_test))\n",
    "        accuracy = np.mean(y_test == predictions)\n",
    "        f1 = f1_score(y_test, predictions)\n",
    "        \n",
    "        acc_scores[label].append(accuracy)\n",
    "        f1_scores[label].append(f1)\n",
    "        \n",
    "                       \n",
    "for label in labels:\n",
    "    print(f\"Model: {label}\")\n",
    "    print(\"Accuracy: \"+ str(np.mean(acc_scores[label])))\n",
    "    print('F1-score: ' + str(np.mean(f1_scores[label])))\n",
    "    print()\n",
    "    \n",
    "\n"
   ]
  },
  {
   "cell_type": "code",
   "execution_count": 166,
   "id": "174bbf66",
   "metadata": {},
   "outputs": [],
   "source": [
    "# Aggregation into just number points\n",
    "for key in f1_scores:\n",
    "    f1_scores[key] = np.mean(f1_scores[key])\n",
    "    "
   ]
  },
  {
   "cell_type": "code",
   "execution_count": 167,
   "id": "4f561221",
   "metadata": {},
   "outputs": [],
   "source": [
    "for key in acc_scores:\n",
    "    acc_scores[key] = np.mean(acc_scores[key])"
   ]
  },
  {
   "cell_type": "code",
   "execution_count": 168,
   "id": "09f3620e",
   "metadata": {},
   "outputs": [
    {
     "data": {
      "text/plain": [
       "0.5334905660377358"
      ]
     },
     "execution_count": 168,
     "metadata": {},
     "output_type": "execute_result"
    }
   ],
   "source": [
    "np.mean(base_pred)"
   ]
  },
  {
   "cell_type": "code",
   "execution_count": 169,
   "id": "f7a281e6",
   "metadata": {},
   "outputs": [
    {
     "data": {
      "text/html": [
       "<div>\n",
       "<style scoped>\n",
       "    .dataframe tbody tr th:only-of-type {\n",
       "        vertical-align: middle;\n",
       "    }\n",
       "\n",
       "    .dataframe tbody tr th {\n",
       "        vertical-align: top;\n",
       "    }\n",
       "\n",
       "    .dataframe thead th {\n",
       "        text-align: right;\n",
       "    }\n",
       "</style>\n",
       "<table border=\"1\" class=\"dataframe\">\n",
       "  <thead>\n",
       "    <tr style=\"text-align: right;\">\n",
       "      <th></th>\n",
       "      <th>Accuracy</th>\n",
       "      <th>F1 Score</th>\n",
       "    </tr>\n",
       "  </thead>\n",
       "  <tbody>\n",
       "    <tr>\n",
       "      <th>Naive Bayes</th>\n",
       "      <td>0.536792</td>\n",
       "      <td>0.694986</td>\n",
       "    </tr>\n",
       "    <tr>\n",
       "      <th>SVM</th>\n",
       "      <td>0.514623</td>\n",
       "      <td>0.399911</td>\n",
       "    </tr>\n",
       "    <tr>\n",
       "      <th>Logistic Regression</th>\n",
       "      <td>0.538208</td>\n",
       "      <td>0.599842</td>\n",
       "    </tr>\n",
       "    <tr>\n",
       "      <th>KNearestNeighbors</th>\n",
       "      <td>0.490472</td>\n",
       "      <td>0.439574</td>\n",
       "    </tr>\n",
       "  </tbody>\n",
       "</table>\n",
       "</div>"
      ],
      "text/plain": [
       "                     Accuracy  F1 Score\n",
       "Naive Bayes          0.536792  0.694986\n",
       "SVM                  0.514623  0.399911\n",
       "Logistic Regression  0.538208  0.599842\n",
       "KNearestNeighbors    0.490472  0.439574"
      ]
     },
     "execution_count": 169,
     "metadata": {},
     "output_type": "execute_result"
    }
   ],
   "source": [
    "test_results = pd.DataFrame(data={\n",
    "    'Accuracy': acc_scores,\n",
    "    'F1 Score': f1_scores\n",
    "})\n",
    "test_results"
   ]
  },
  {
   "cell_type": "code",
   "execution_count": 183,
   "id": "20c362a9",
   "metadata": {},
   "outputs": [
    {
     "data": {
      "text/plain": [
       "<AxesSubplot:title={'center':'Model Accuracy'}, ylabel='Model'>"
      ]
     },
     "execution_count": 183,
     "metadata": {},
     "output_type": "execute_result"
    },
    {
     "data": {
      "image/png": "[encoded data removed]",
      "text/plain": [
       "<Figure size 432x288 with 1 Axes>"
      ]
     },
     "metadata": {
      "needs_background": "light"
     },
     "output_type": "display_data"
    }
   ],
   "source": [
    "test_results.plot(kind='barh', y='Accuracy', title='Model Accuracy', ylabel='Model', xlim=[0, 1])"
   ]
  },
  {
   "cell_type": "code",
   "execution_count": 171,
   "id": "84f0b5dd",
   "metadata": {},
   "outputs": [
    {
     "data": {
      "text/plain": [
       "<AxesSubplot:title={'center':'Model F1 Score'}, ylabel='Model'>"
      ]
     },
     "execution_count": 171,
     "metadata": {},
     "output_type": "execute_result"
    },
    {
     "data": {
      "image/png": "[encoded data removed]",
      "text/plain": [
       "<Figure size 432x288 with 1 Axes>"
      ]
     },
     "metadata": {
      "needs_background": "light"
     },
     "output_type": "display_data"
    }
   ],
   "source": [
    "test_results.plot(kind='barh', y='F1 Score', title='Model F1 Score', xlabel='Model', xlim=[0,1])"
   ]
  },
  {
   "cell_type": "markdown",
   "id": "7e4ac3c4",
   "metadata": {},
   "source": [
    "## Competition Predictions"
   ]
  },
  {
   "cell_type": "code",
   "execution_count": 172,
   "id": "f9c90494",
   "metadata": {},
   "outputs": [],
   "source": [
    "id_pipe.fit(x.Pitched_Business_Identifier)\n",
    "desc_pipe.fit(x.Pitched_Business_Desc)\n",
    "training_features = feature_transform(id_pipe, desc_pipe, x)"
   ]
  },
  {
   "cell_type": "code",
   "execution_count": 173,
   "id": "e81c19ea",
   "metadata": {},
   "outputs": [
    {
     "data": {
      "text/plain": [
       "MultinomialNB()"
      ]
     },
     "execution_count": 173,
     "metadata": {},
     "output_type": "execute_result"
    }
   ],
   "source": [
    "naive_model.fit(training_features, y_labels)"
   ]
  },
  {
   "cell_type": "code",
   "execution_count": 174,
   "id": "9c9030b4",
   "metadata": {},
   "outputs": [
    {
     "data": {
      "text/plain": [
       "0.7018867924528301"
      ]
     },
     "execution_count": 174,
     "metadata": {},
     "output_type": "execute_result"
    }
   ],
   "source": [
    "np.mean(y_labels == naive_model.predict(feature_transform(id_pipe, desc_pipe, x)))"
   ]
  },
  {
   "cell_type": "code",
   "execution_count": 175,
   "id": "7a163465",
   "metadata": {},
   "outputs": [],
   "source": [
    "# Load in test set\n",
    "test_set = pd.read_csv(os.path.join('data', 'intermediate_testset.csv'))\n",
    "test_set\n",
    "\n",
    "test_set['Pitched_Business_Identifier'] = (\n",
    "    test_set.Pitched_Business_Identifier\n",
    "        .str.lower()\n",
    "        .str.replace(r\"['-.\\\"]\", '', regex=True)\n",
    "        .str.replace(r'&', 'and', regex=True)\n",
    ")\n",
    "\n",
    "test_set['Pitched_Business_Desc'] = (\n",
    "    test_set['Pitched_Business_Desc']\n",
    "        .str.lower()\n",
    "        .str.replace(r\"['-.\\\"]\", '', regex=True)\n",
    "        .str.replace(r'&', 'and', regex=True)\n",
    "        .str.replace(r'\\s+a\\s+', ' ', regex=True)\n",
    "        .str.replace(r'\\s+an\\s+', ' ', regex=True)\n",
    "        .str.replace(r'^a\\s', '', regex=True)\n",
    "        .str.replace(r'^an\\s', '', regex=True)\n",
    ")\n",
    "\n",
    "# Create new feature for detailedness\n",
    "test_set['detailedness'] = (\n",
    "    test_set.Pitched_Business_Desc.apply(lambda x: len(x.split())) *\n",
    "    test_set.Pitched_Business_Identifier.apply(lambda x: len(x.split()))\n",
    ")\n"
   ]
  },
  {
   "cell_type": "code",
   "execution_count": 176,
   "id": "8c8cc006",
   "metadata": {},
   "outputs": [],
   "source": [
    "predictions = naive_model.predict(feature_transform(id_pipe, desc_pipe, test_set))"
   ]
  },
  {
   "cell_type": "code",
   "execution_count": 177,
   "id": "03bed291",
   "metadata": {},
   "outputs": [
    {
     "data": {
      "text/html": [
       "<div>\n",
       "<style scoped>\n",
       "    .dataframe tbody tr th:only-of-type {\n",
       "        vertical-align: middle;\n",
       "    }\n",
       "\n",
       "    .dataframe tbody tr th {\n",
       "        vertical-align: top;\n",
       "    }\n",
       "\n",
       "    .dataframe thead th {\n",
       "        text-align: right;\n",
       "    }\n",
       "</style>\n",
       "<table border=\"1\" class=\"dataframe\">\n",
       "  <thead>\n",
       "    <tr style=\"text-align: right;\">\n",
       "      <th></th>\n",
       "      <th>Deal_Status</th>\n",
       "    </tr>\n",
       "  </thead>\n",
       "  <tbody>\n",
       "    <tr>\n",
       "      <th>0</th>\n",
       "      <td>1</td>\n",
       "    </tr>\n",
       "    <tr>\n",
       "      <th>1</th>\n",
       "      <td>1</td>\n",
       "    </tr>\n",
       "    <tr>\n",
       "      <th>2</th>\n",
       "      <td>1</td>\n",
       "    </tr>\n",
       "    <tr>\n",
       "      <th>3</th>\n",
       "      <td>1</td>\n",
       "    </tr>\n",
       "    <tr>\n",
       "      <th>4</th>\n",
       "      <td>1</td>\n",
       "    </tr>\n",
       "    <tr>\n",
       "      <th>...</th>\n",
       "      <td>...</td>\n",
       "    </tr>\n",
       "    <tr>\n",
       "      <th>171</th>\n",
       "      <td>1</td>\n",
       "    </tr>\n",
       "    <tr>\n",
       "      <th>172</th>\n",
       "      <td>1</td>\n",
       "    </tr>\n",
       "    <tr>\n",
       "      <th>173</th>\n",
       "      <td>1</td>\n",
       "    </tr>\n",
       "    <tr>\n",
       "      <th>174</th>\n",
       "      <td>1</td>\n",
       "    </tr>\n",
       "    <tr>\n",
       "      <th>175</th>\n",
       "      <td>1</td>\n",
       "    </tr>\n",
       "  </tbody>\n",
       "</table>\n",
       "<p>176 rows × 1 columns</p>\n",
       "</div>"
      ],
      "text/plain": [
       "     Deal_Status\n",
       "0              1\n",
       "1              1\n",
       "2              1\n",
       "3              1\n",
       "4              1\n",
       "..           ...\n",
       "171            1\n",
       "172            1\n",
       "173            1\n",
       "174            1\n",
       "175            1\n",
       "\n",
       "[176 rows x 1 columns]"
      ]
     },
     "execution_count": 177,
     "metadata": {},
     "output_type": "execute_result"
    }
   ],
   "source": [
    "# Put predictions into csv\n",
    "prediction_set = pd.DataFrame(data=predictions, columns=['Deal_Status'])\n",
    "prediction_set"
   ]
  },
  {
   "cell_type": "code",
   "execution_count": 178,
   "id": "8d3e1358",
   "metadata": {},
   "outputs": [
    {
     "data": {
      "text/plain": [
       "0.9943181818181818"
      ]
     },
     "execution_count": 178,
     "metadata": {},
     "output_type": "execute_result"
    }
   ],
   "source": [
    "np.mean(predictions)"
   ]
  },
  {
   "cell_type": "code",
   "execution_count": 179,
   "id": "cae07af2",
   "metadata": {},
   "outputs": [
    {
     "data": {
      "text/plain": [
       "175"
      ]
     },
     "execution_count": 179,
     "metadata": {},
     "output_type": "execute_result"
    }
   ],
   "source": [
    "np.sum(predictions)"
   ]
  },
  {
   "cell_type": "code",
   "execution_count": 180,
   "id": "b6d51268",
   "metadata": {},
   "outputs": [
    {
     "data": {
      "text/plain": [
       "array([1, 1, 1, 1, 1, 1, 1, 1, 1, 1, 0, 1, 1, 1, 1, 1, 1, 1, 1, 1, 1, 1,\n",
       "       1, 1, 1, 1, 1, 1, 1, 1, 1, 1, 1, 1, 1, 1, 1, 1, 1, 1, 1, 1, 1, 1,\n",
       "       1, 1, 1, 1, 1, 1, 1, 1, 1, 1, 1, 1, 1, 1, 1, 1, 1, 1, 1, 1, 1, 1,\n",
       "       1, 1, 1, 1, 1, 1, 1, 1, 1, 1, 1, 1, 1, 1, 1, 1, 1, 1, 1, 1, 1, 1,\n",
       "       1, 1, 1, 1, 1, 1, 1, 1, 1, 1, 1, 1, 1, 1, 1, 1, 1, 1, 1, 1, 1, 1,\n",
       "       1, 1, 1, 1, 1, 1, 1, 1, 1, 1, 1, 1, 1, 1, 1, 1, 1, 1, 1, 1, 1, 1,\n",
       "       1, 1, 1, 1, 1, 1, 1, 1, 1, 1, 1, 1, 1, 1, 1, 1, 1, 1, 1, 1, 1, 1,\n",
       "       1, 1, 1, 1, 1, 1, 1, 1, 1, 1, 1, 1, 1, 1, 1, 1, 1, 1, 1, 1, 1, 1],\n",
       "      dtype=int64)"
      ]
     },
     "execution_count": 180,
     "metadata": {},
     "output_type": "execute_result"
    }
   ],
   "source": [
    "predictions"
   ]
  },
  {
   "cell_type": "code",
   "execution_count": 181,
   "id": "824c2f6e",
   "metadata": {},
   "outputs": [],
   "source": [
    "# Export dataset\n",
    "with open(os.path.join('data', 'predictions.csv'), 'w', encoding='utf-8', newline='') as output:\n",
    "    output.write(prediction_set.to_csv(index=False, mode='a'))"
   ]
  },
  {
   "cell_type": "code",
   "execution_count": 182,
   "id": "d0907859",
   "metadata": {
    "scrolled": false
   },
   "outputs": [
    {
     "data": {
      "text/html": [
       "<div>\n",
       "<style scoped>\n",
       "    .dataframe tbody tr th:only-of-type {\n",
       "        vertical-align: middle;\n",
       "    }\n",
       "\n",
       "    .dataframe tbody tr th {\n",
       "        vertical-align: top;\n",
       "    }\n",
       "\n",
       "    .dataframe thead th {\n",
       "        text-align: right;\n",
       "    }\n",
       "</style>\n",
       "<table border=\"1\" class=\"dataframe\">\n",
       "  <thead>\n",
       "    <tr style=\"text-align: right;\">\n",
       "      <th></th>\n",
       "      <th>Deal_Status</th>\n",
       "    </tr>\n",
       "  </thead>\n",
       "  <tbody>\n",
       "    <tr>\n",
       "      <th>0</th>\n",
       "      <td>1</td>\n",
       "    </tr>\n",
       "    <tr>\n",
       "      <th>1</th>\n",
       "      <td>1</td>\n",
       "    </tr>\n",
       "    <tr>\n",
       "      <th>2</th>\n",
       "      <td>1</td>\n",
       "    </tr>\n",
       "    <tr>\n",
       "      <th>3</th>\n",
       "      <td>1</td>\n",
       "    </tr>\n",
       "    <tr>\n",
       "      <th>4</th>\n",
       "      <td>1</td>\n",
       "    </tr>\n",
       "    <tr>\n",
       "      <th>...</th>\n",
       "      <td>...</td>\n",
       "    </tr>\n",
       "    <tr>\n",
       "      <th>171</th>\n",
       "      <td>1</td>\n",
       "    </tr>\n",
       "    <tr>\n",
       "      <th>172</th>\n",
       "      <td>1</td>\n",
       "    </tr>\n",
       "    <tr>\n",
       "      <th>173</th>\n",
       "      <td>1</td>\n",
       "    </tr>\n",
       "    <tr>\n",
       "      <th>174</th>\n",
       "      <td>1</td>\n",
       "    </tr>\n",
       "    <tr>\n",
       "      <th>175</th>\n",
       "      <td>1</td>\n",
       "    </tr>\n",
       "  </tbody>\n",
       "</table>\n",
       "<p>176 rows × 1 columns</p>\n",
       "</div>"
      ],
      "text/plain": [
       "     Deal_Status\n",
       "0              1\n",
       "1              1\n",
       "2              1\n",
       "3              1\n",
       "4              1\n",
       "..           ...\n",
       "171            1\n",
       "172            1\n",
       "173            1\n",
       "174            1\n",
       "175            1\n",
       "\n",
       "[176 rows x 1 columns]"
      ]
     },
     "execution_count": 182,
     "metadata": {},
     "output_type": "execute_result"
    }
   ],
   "source": [
    "pd.read_csv(os.path.join('data', 'predictions.csv'))"
   ]
  }
 ],
 "metadata": {
  "kernelspec": {
   "display_name": "Python 3",
   "language": "python",
   "name": "python3"
  },
  "language_info": {
   "codemirror_mode": {
    "name": "ipython",
    "version": 3
   },
   "file_extension": ".py",
   "mimetype": "text/x-python",
   "name": "python",
   "nbconvert_exporter": "python",
   "pygments_lexer": "ipython3",
   "version": "3.8.5"
  }
 },
 "nbformat": 4,
 "nbformat_minor": 5
}
