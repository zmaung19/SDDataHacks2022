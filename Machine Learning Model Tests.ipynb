{
 "cells": [
  {
   "cell_type": "markdown",
   "id": "68b47ed4",
   "metadata": {},
   "source": [
    "This notebook is meant for testing multiple machine learning models in the Datahacks 2022 Intermediate Track."
   ]
  },
  {
   "cell_type": "code",
   "execution_count": 1,
   "id": "21a97166",
   "metadata": {},
   "outputs": [],
   "source": [
    "import pandas as pd\n",
    "import os\n",
    "import seaborn\n",
    "import numpy as np\n",
    "from sklearn.feature_extraction.text import CountVectorizer\n",
    "from sklearn.feature_extraction.text import TfidfTransformer\n",
    "from sklearn.model_selection import train_test_split\n",
    "from sklearn.compose import ColumnTransformer\n",
    "from sklearn.preprocessing import FunctionTransformer\n",
    "from sklearn.pipeline import Pipeline\n",
    "from scipy.sparse import hstack, csr_matrix"
   ]
  },
  {
   "cell_type": "code",
   "execution_count": 6,
   "id": "8e36531e",
   "metadata": {},
   "outputs": [],
   "source": [
    "from collections import Counter\n",
    "from nltk.tokenize import word_tokenize\n",
    "from nltk.corpus import stopwords\n",
    "import nltk"
   ]
  },
  {
   "cell_type": "code",
   "execution_count": 7,
   "id": "2e0f7b7d",
   "metadata": {},
   "outputs": [
    {
     "name": "stderr",
     "output_type": "stream",
     "text": [
      "[nltk_data] Downloading package stopwords to\n",
      "[nltk_data]     C:\\Users\\alexa\\AppData\\Roaming\\nltk_data...\n",
      "[nltk_data]   Unzipping corpora\\stopwords.zip.\n"
     ]
    },
    {
     "data": {
      "text/plain": [
       "True"
      ]
     },
     "execution_count": 7,
     "metadata": {},
     "output_type": "execute_result"
    }
   ],
   "source": [
    "nltk.download('stopwords')"
   ]
  },
  {
   "cell_type": "code",
   "execution_count": 8,
   "id": "225e4c9d",
   "metadata": {},
   "outputs": [],
   "source": [
    "stop = stopwords.words('english')"
   ]
  },
  {
   "cell_type": "code",
   "execution_count": 41,
   "id": "fef40aa6",
   "metadata": {},
   "outputs": [],
   "source": [
    "sharktank = pd.read_csv(os.path.join('data', 'intermediate_trainset.csv')).drop(columns=['Deal_Shark'])\n",
    "sharktank['Pitched_Business_Identifier'] = (\n",
    "    sharktank.Pitched_Business_Identifier\n",
    "        .str.lower()\n",
    "        .str.replace(r\"['-.\\\"]\", '', regex=True)\n",
    "        .str.replace(r'&', 'and', regex=True)\n",
    ")\n",
    "\n",
    "sharktank['Pitched_Business_Desc'] = (\n",
    "    sharktank['Pitched_Business_Desc']\n",
    "        .str.lower()\n",
    "        .str.replace(r\"['-.\\\"]\", '', regex=True)\n",
    "        .str.replace(r'&', 'and', regex=True)\n",
    "        .str.replace(r'\\s+a\\s+', ' ', regex=True)\n",
    "        .str.replace(r'\\s+an\\s+', ' ', regex=True)\n",
    "        .str.replace(r'^a\\s', '', regex=True)\n",
    "        .str.replace(r'^an\\s', '', regex=True)\n",
    ")\n",
    "\n",
    "#sharktank['Pitched_Business_Desc'] = (\n",
    "#    sharktank.Pitched_Business_Desc\n",
    "#        .apply(lambda x: ' '.join([word for word in x.split() if word not in (stop)]))\n",
    "#)"
   ]
  },
  {
   "cell_type": "code",
   "execution_count": 42,
   "id": "e3401b93",
   "metadata": {},
   "outputs": [
    {
     "data": {
      "text/html": [
       "<div>\n",
       "<style scoped>\n",
       "    .dataframe tbody tr th:only-of-type {\n",
       "        vertical-align: middle;\n",
       "    }\n",
       "\n",
       "    .dataframe tbody tr th {\n",
       "        vertical-align: top;\n",
       "    }\n",
       "\n",
       "    .dataframe thead th {\n",
       "        text-align: right;\n",
       "    }\n",
       "</style>\n",
       "<table border=\"1\" class=\"dataframe\">\n",
       "  <thead>\n",
       "    <tr style=\"text-align: right;\">\n",
       "      <th></th>\n",
       "      <th>Season_Epi_code</th>\n",
       "      <th>Pitched_Business_Identifier</th>\n",
       "      <th>Pitched_Business_Desc</th>\n",
       "      <th>Deal_Status</th>\n",
       "    </tr>\n",
       "  </thead>\n",
       "  <tbody>\n",
       "    <tr>\n",
       "      <th>0</th>\n",
       "      <td>826</td>\n",
       "      <td>laid brand</td>\n",
       "      <td>haircare products made with pheromones  laid b...</td>\n",
       "      <td>0</td>\n",
       "    </tr>\n",
       "    <tr>\n",
       "      <th>1</th>\n",
       "      <td>826</td>\n",
       "      <td>wine and design</td>\n",
       "      <td>painting classes with wine served  wine and de...</td>\n",
       "      <td>1</td>\n",
       "    </tr>\n",
       "    <tr>\n",
       "      <th>2</th>\n",
       "      <td>824</td>\n",
       "      <td>peoples design</td>\n",
       "      <td>mixing bowl with builtin scoop  peoples design...</td>\n",
       "      <td>1</td>\n",
       "    </tr>\n",
       "    <tr>\n",
       "      <th>3</th>\n",
       "      <td>824</td>\n",
       "      <td>rumi spice</td>\n",
       "      <td>saffron imported from afghanistan  rumi spice ...</td>\n",
       "      <td>1</td>\n",
       "    </tr>\n",
       "    <tr>\n",
       "      <th>4</th>\n",
       "      <td>824</td>\n",
       "      <td>wallet buckle</td>\n",
       "      <td>belt buckle that holds credit cards  the walle...</td>\n",
       "      <td>1</td>\n",
       "    </tr>\n",
       "    <tr>\n",
       "      <th>...</th>\n",
       "      <td>...</td>\n",
       "      <td>...</td>\n",
       "      <td>...</td>\n",
       "      <td>...</td>\n",
       "    </tr>\n",
       "    <tr>\n",
       "      <th>525</th>\n",
       "      <td>102</td>\n",
       "      <td>sticky note holder</td>\n",
       "      <td>postit note arm for laptops postit note arm fo...</td>\n",
       "      <td>0</td>\n",
       "    </tr>\n",
       "    <tr>\n",
       "      <th>526</th>\n",
       "      <td>101</td>\n",
       "      <td>college foxes packing boxes</td>\n",
       "      <td>packing and organizing service based on alread...</td>\n",
       "      <td>0</td>\n",
       "    </tr>\n",
       "    <tr>\n",
       "      <th>527</th>\n",
       "      <td>101</td>\n",
       "      <td>ionic ear</td>\n",
       "      <td>implantable bluetooth device requiring surgery...</td>\n",
       "      <td>0</td>\n",
       "    </tr>\n",
       "    <tr>\n",
       "      <th>528</th>\n",
       "      <td>101</td>\n",
       "      <td>mr tods pie factory</td>\n",
       "      <td>pie company</td>\n",
       "      <td>1</td>\n",
       "    </tr>\n",
       "    <tr>\n",
       "      <th>529</th>\n",
       "      <td>101</td>\n",
       "      <td>wispots</td>\n",
       "      <td>electronic handheld device for waiting rooms e...</td>\n",
       "      <td>0</td>\n",
       "    </tr>\n",
       "  </tbody>\n",
       "</table>\n",
       "<p>530 rows × 4 columns</p>\n",
       "</div>"
      ],
      "text/plain": [
       "     Season_Epi_code  Pitched_Business_Identifier  \\\n",
       "0                826                   laid brand   \n",
       "1                826              wine and design   \n",
       "2                824               peoples design   \n",
       "3                824                   rumi spice   \n",
       "4                824                wallet buckle   \n",
       "..               ...                          ...   \n",
       "525              102           sticky note holder   \n",
       "526              101  college foxes packing boxes   \n",
       "527              101                    ionic ear   \n",
       "528              101          mr tods pie factory   \n",
       "529              101                      wispots   \n",
       "\n",
       "                                 Pitched_Business_Desc  Deal_Status  \n",
       "0    haircare products made with pheromones  laid b...            0  \n",
       "1    painting classes with wine served  wine and de...            1  \n",
       "2    mixing bowl with builtin scoop  peoples design...            1  \n",
       "3    saffron imported from afghanistan  rumi spice ...            1  \n",
       "4    belt buckle that holds credit cards  the walle...            1  \n",
       "..                                                 ...          ...  \n",
       "525  postit note arm for laptops postit note arm fo...            0  \n",
       "526  packing and organizing service based on alread...            0  \n",
       "527  implantable bluetooth device requiring surgery...            0  \n",
       "528                                       pie company             1  \n",
       "529  electronic handheld device for waiting rooms e...            0  \n",
       "\n",
       "[530 rows x 4 columns]"
      ]
     },
     "execution_count": 42,
     "metadata": {},
     "output_type": "execute_result"
    }
   ],
   "source": [
    "sharktank"
   ]
  },
  {
   "cell_type": "code",
   "execution_count": 43,
   "id": "029a856e",
   "metadata": {},
   "outputs": [],
   "source": [
    "sharktank['detailedness'] = (\n",
    "    sharktank.Pitched_Business_Desc.apply(lambda x: len(x.split())) *\n",
    "    sharktank.Pitched_Business_Identifier.apply(lambda x: len(x.split()))\n",
    ")"
   ]
  },
  {
   "cell_type": "code",
   "execution_count": 44,
   "id": "66b5bbc0",
   "metadata": {},
   "outputs": [
    {
     "data": {
      "text/html": [
       "<div>\n",
       "<style scoped>\n",
       "    .dataframe tbody tr th:only-of-type {\n",
       "        vertical-align: middle;\n",
       "    }\n",
       "\n",
       "    .dataframe tbody tr th {\n",
       "        vertical-align: top;\n",
       "    }\n",
       "\n",
       "    .dataframe thead th {\n",
       "        text-align: right;\n",
       "    }\n",
       "</style>\n",
       "<table border=\"1\" class=\"dataframe\">\n",
       "  <thead>\n",
       "    <tr style=\"text-align: right;\">\n",
       "      <th></th>\n",
       "      <th>Season_Epi_code</th>\n",
       "      <th>Pitched_Business_Identifier</th>\n",
       "      <th>Pitched_Business_Desc</th>\n",
       "      <th>detailedness</th>\n",
       "    </tr>\n",
       "  </thead>\n",
       "  <tbody>\n",
       "    <tr>\n",
       "      <th>0</th>\n",
       "      <td>826</td>\n",
       "      <td>laid brand</td>\n",
       "      <td>haircare products made with pheromones  laid b...</td>\n",
       "      <td>64</td>\n",
       "    </tr>\n",
       "    <tr>\n",
       "      <th>1</th>\n",
       "      <td>826</td>\n",
       "      <td>wine and design</td>\n",
       "      <td>painting classes with wine served  wine and de...</td>\n",
       "      <td>111</td>\n",
       "    </tr>\n",
       "    <tr>\n",
       "      <th>2</th>\n",
       "      <td>824</td>\n",
       "      <td>peoples design</td>\n",
       "      <td>mixing bowl with builtin scoop  peoples design...</td>\n",
       "      <td>78</td>\n",
       "    </tr>\n",
       "    <tr>\n",
       "      <th>3</th>\n",
       "      <td>824</td>\n",
       "      <td>rumi spice</td>\n",
       "      <td>saffron imported from afghanistan  rumi spice ...</td>\n",
       "      <td>70</td>\n",
       "    </tr>\n",
       "    <tr>\n",
       "      <th>4</th>\n",
       "      <td>824</td>\n",
       "      <td>wallet buckle</td>\n",
       "      <td>belt buckle that holds credit cards  the walle...</td>\n",
       "      <td>64</td>\n",
       "    </tr>\n",
       "    <tr>\n",
       "      <th>...</th>\n",
       "      <td>...</td>\n",
       "      <td>...</td>\n",
       "      <td>...</td>\n",
       "      <td>...</td>\n",
       "    </tr>\n",
       "    <tr>\n",
       "      <th>525</th>\n",
       "      <td>102</td>\n",
       "      <td>sticky note holder</td>\n",
       "      <td>postit note arm for laptops postit note arm fo...</td>\n",
       "      <td>30</td>\n",
       "    </tr>\n",
       "    <tr>\n",
       "      <th>526</th>\n",
       "      <td>101</td>\n",
       "      <td>college foxes packing boxes</td>\n",
       "      <td>packing and organizing service based on alread...</td>\n",
       "      <td>136</td>\n",
       "    </tr>\n",
       "    <tr>\n",
       "      <th>527</th>\n",
       "      <td>101</td>\n",
       "      <td>ionic ear</td>\n",
       "      <td>implantable bluetooth device requiring surgery...</td>\n",
       "      <td>42</td>\n",
       "    </tr>\n",
       "    <tr>\n",
       "      <th>528</th>\n",
       "      <td>101</td>\n",
       "      <td>mr tods pie factory</td>\n",
       "      <td>pie company</td>\n",
       "      <td>8</td>\n",
       "    </tr>\n",
       "    <tr>\n",
       "      <th>529</th>\n",
       "      <td>101</td>\n",
       "      <td>wispots</td>\n",
       "      <td>electronic handheld device for waiting rooms e...</td>\n",
       "      <td>12</td>\n",
       "    </tr>\n",
       "  </tbody>\n",
       "</table>\n",
       "<p>530 rows × 4 columns</p>\n",
       "</div>"
      ],
      "text/plain": [
       "     Season_Epi_code  Pitched_Business_Identifier  \\\n",
       "0                826                   laid brand   \n",
       "1                826              wine and design   \n",
       "2                824               peoples design   \n",
       "3                824                   rumi spice   \n",
       "4                824                wallet buckle   \n",
       "..               ...                          ...   \n",
       "525              102           sticky note holder   \n",
       "526              101  college foxes packing boxes   \n",
       "527              101                    ionic ear   \n",
       "528              101          mr tods pie factory   \n",
       "529              101                      wispots   \n",
       "\n",
       "                                 Pitched_Business_Desc  detailedness  \n",
       "0    haircare products made with pheromones  laid b...            64  \n",
       "1    painting classes with wine served  wine and de...           111  \n",
       "2    mixing bowl with builtin scoop  peoples design...            78  \n",
       "3    saffron imported from afghanistan  rumi spice ...            70  \n",
       "4    belt buckle that holds credit cards  the walle...            64  \n",
       "..                                                 ...           ...  \n",
       "525  postit note arm for laptops postit note arm fo...            30  \n",
       "526  packing and organizing service based on alread...           136  \n",
       "527  implantable bluetooth device requiring surgery...            42  \n",
       "528                                       pie company              8  \n",
       "529  electronic handheld device for waiting rooms e...            12  \n",
       "\n",
       "[530 rows x 4 columns]"
      ]
     },
     "execution_count": 44,
     "metadata": {},
     "output_type": "execute_result"
    }
   ],
   "source": [
    "y_labels = sharktank.Deal_Status\n",
    "x = sharktank.drop(columns=['Deal_Status'])\n",
    "x"
   ]
  },
  {
   "cell_type": "code",
   "execution_count": 45,
   "id": "4e1dfe68",
   "metadata": {},
   "outputs": [
    {
     "data": {
      "text/plain": [
       "<424x4196 sparse matrix of type '<class 'numpy.float64'>'\n",
       "\twith 10045 stored elements in COOrdinate format>"
      ]
     },
     "execution_count": 45,
     "metadata": {},
     "output_type": "execute_result"
    }
   ],
   "source": [
    "# Pipeline for transforming features\n",
    "def feature_transform(business_id_trans, business_desc_trans, features):\n",
    "    # Transform the features respectively\n",
    "    id_vector = business_id_trans.transform(features['Pitched_Business_Identifier'])\n",
    "    desc_vector = business_desc_trans.transform(features['Pitched_Business_Desc'])\n",
    "    #print(type(id_vector))\n",
    "    #print(desc_vector)\n",
    "    final_vector = hstack([id_vector, desc_vector, csr_matrix(features.detailedness).transpose()])\n",
    "    return final_vector\n",
    "\n",
    "# General column transformer for model selection\n",
    "id_pipe = Pipeline([\n",
    "    ('vectorizer', CountVectorizer()),\n",
    "    ('tf-idf', TfidfTransformer())\n",
    "])\n",
    "\n",
    "desc_pipe = Pipeline([\n",
    "    ('vectorizer', CountVectorizer()),\n",
    "    ('tf-idf', TfidfTransformer())\n",
    "])\n",
    "\n",
    "x_train, x_test, y_train, y_test = train_test_split(x, y_labels, test_size=.2, shuffle=True)\n",
    "id_pipe.fit_transform(x_train.Pitched_Business_Identifier)\n",
    "desc_pipe.fit_transform(x_train.Pitched_Business_Desc)\n",
    "\n",
    "x_train_features = feature_transform(id_pipe, desc_pipe, x_train)\n",
    "x_train_features"
   ]
  },
  {
   "cell_type": "code",
   "execution_count": 46,
   "id": "15b347d6",
   "metadata": {},
   "outputs": [],
   "source": [
    "#Models we wish to try out\n",
    "from sklearn.naive_bayes import MultinomialNB"
   ]
  },
  {
   "cell_type": "code",
   "execution_count": 47,
   "id": "1b7950f5",
   "metadata": {},
   "outputs": [
    {
     "data": {
      "text/plain": [
       "MultinomialNB()"
      ]
     },
     "execution_count": 47,
     "metadata": {},
     "output_type": "execute_result"
    }
   ],
   "source": [
    "naive_model = MultinomialNB()\n",
    "naive_model.fit(x_train_features, y_train)"
   ]
  },
  {
   "cell_type": "code",
   "execution_count": 48,
   "id": "94eba340",
   "metadata": {
    "scrolled": true
   },
   "outputs": [
    {
     "data": {
      "text/plain": [
       "0.42452830188679247"
      ]
     },
     "execution_count": 48,
     "metadata": {},
     "output_type": "execute_result"
    }
   ],
   "source": [
    "np.mean(y_test == naive_model.predict(feature_transform(id_pipe, desc_pipe, x_test)))"
   ]
  },
  {
   "cell_type": "code",
   "execution_count": 49,
   "id": "bf43f739",
   "metadata": {},
   "outputs": [
    {
     "data": {
      "text/plain": [
       "0.5283018867924528"
      ]
     },
     "execution_count": 49,
     "metadata": {},
     "output_type": "execute_result"
    }
   ],
   "source": [
    "from sklearn.neighbors import KNeighborsClassifier\n",
    "# Kneighbors classifier\n",
    "knn = KNeighborsClassifier(n_neighbors=4).fit(x_train_features, y_train)\n",
    "np.mean(y_test == knn.predict(feature_transform(id_pipe, desc_pipe, x_test)))"
   ]
  },
  {
   "cell_type": "code",
   "execution_count": 50,
   "id": "b8a8d639",
   "metadata": {},
   "outputs": [],
   "source": [
    "from sklearn.linear_model import SGDClassifier\n",
    "# Attempt to create a svm model instead\n",
    "svm_model = SGDClassifier().fit(x_train_features, y_train)"
   ]
  },
  {
   "cell_type": "code",
   "execution_count": 51,
   "id": "a4256ec7",
   "metadata": {},
   "outputs": [],
   "source": [
    "# Logistic Regression\n",
    "from sklearn.linear_model import LogisticRegression\n",
    "log_model = LogisticRegression().fit(x_train_features, y_train)"
   ]
  },
  {
   "cell_type": "markdown",
   "id": "c60d59ec",
   "metadata": {},
   "source": [
    "# Model Evaluations"
   ]
  },
  {
   "cell_type": "code",
   "execution_count": 52,
   "id": "620dfaf2",
   "metadata": {},
   "outputs": [],
   "source": [
    "from sklearn.metrics import confusion_matrix, f1_score"
   ]
  },
  {
   "cell_type": "code",
   "execution_count": 53,
   "id": "e4016f02",
   "metadata": {},
   "outputs": [
    {
     "name": "stderr",
     "output_type": "stream",
     "text": [
      "C:\\Users\\alexa\\AppData\\Roaming\\Python\\Python38\\site-packages\\sklearn\\linear_model\\_logistic.py:814: ConvergenceWarning: lbfgs failed to converge (status=1):\n",
      "STOP: TOTAL NO. of ITERATIONS REACHED LIMIT.\n",
      "\n",
      "Increase the number of iterations (max_iter) or scale the data as shown in:\n",
      "    https://scikit-learn.org/stable/modules/preprocessing.html\n",
      "Please also refer to the documentation for alternative solver options:\n",
      "    https://scikit-learn.org/stable/modules/linear_model.html#logistic-regression\n",
      "  n_iter_i = _check_optimize_result(\n"
     ]
    },
    {
     "name": "stdout",
     "output_type": "stream",
     "text": [
      "Model: Naive Bayes\n",
      "Accuracy: 0.540377358490566\n",
      "F1-score: 0.6969812142790006\n",
      "\n",
      "Model: SVM\n",
      "Accuracy: 0.4989622641509433\n",
      "F1-score: 0.4289567232044942\n",
      "\n",
      "Model: Logistic Regression\n",
      "Accuracy: 0.5274528301886793\n",
      "F1-score: 0.5996349067657705\n",
      "\n",
      "Model: KNearestNeighbors\n",
      "Accuracy: 0.515377358490566\n",
      "F1-score: 0.47627446696558695\n",
      "\n"
     ]
    }
   ],
   "source": [
    "models = [naive_model, svm_model, log_model, knn]\n",
    "labels = ['Naive Bayes', 'SVM', 'Logistic Regression', 'KNearestNeighbors']\n",
    "acc_scores = {k:[] for k in labels}\n",
    "f1_scores = {k:[] for k in labels}\n",
    "base_pred = []\n",
    "for _ in range(100):\n",
    "    x_train, x_test, y_train, y_test = train_test_split(x, y_labels, test_size=.2, shuffle=True)\n",
    "    id_pipe.fit(x_train.Pitched_Business_Identifier)\n",
    "    desc_pipe.fit(x_train.Pitched_Business_Desc)\n",
    "    x_train_features = feature_transform(id_pipe, desc_pipe, x_train)\n",
    "    base_pred.append(y_test.mean())\n",
    "    for model, label in zip(models, labels):\n",
    "        # Fit model\n",
    "        model.fit(x_train_features, y_train)\n",
    "        predictions = model.predict(feature_transform(id_pipe, desc_pipe, x_test))\n",
    "        accuracy = np.mean(y_test == predictions)\n",
    "        f1 = f1_score(y_test, predictions)\n",
    "        \n",
    "        acc_scores[label].append(accuracy)\n",
    "        f1_scores[label].append(f1)\n",
    "        \n",
    "                       \n",
    "for label in labels:\n",
    "    print(f\"Model: {label}\")\n",
    "    print(\"Accuracy: \"+ str(np.mean(acc_scores[label])))\n",
    "    print('F1-score: ' + str(np.mean(f1_scores[label])))\n",
    "    print()\n",
    "    \n",
    "\n"
   ]
  },
  {
   "cell_type": "code",
   "execution_count": 54,
   "id": "a8914fd5",
   "metadata": {},
   "outputs": [
    {
     "name": "stdout",
     "output_type": "stream",
     "text": [
      "0.5387735849056603\n"
     ]
    }
   ],
   "source": [
    "# See raw mean in case predicting one label was a better option\n",
    "print(np.mean(base_pred))"
   ]
  },
  {
   "cell_type": "code",
   "execution_count": 55,
   "id": "386d8f43",
   "metadata": {},
   "outputs": [],
   "source": [
    "# Aggregation into just number points\n",
    "for key in f1_scores:\n",
    "    f1_scores[key] = np.mean(f1_scores[key])\n",
    "    "
   ]
  },
  {
   "cell_type": "code",
   "execution_count": 56,
   "id": "61ea6181",
   "metadata": {},
   "outputs": [],
   "source": [
    "for key in acc_scores:\n",
    "    acc_scores[key] = np.mean(acc_scores[key])"
   ]
  },
  {
   "cell_type": "code",
   "execution_count": 57,
   "id": "fe24fdaa",
   "metadata": {},
   "outputs": [
    {
     "data": {
      "text/plain": [
       "0.5387735849056603"
      ]
     },
     "execution_count": 57,
     "metadata": {},
     "output_type": "execute_result"
    }
   ],
   "source": [
    "np.mean(base_pred)"
   ]
  },
  {
   "cell_type": "code",
   "execution_count": 58,
   "id": "13c4ad21",
   "metadata": {},
   "outputs": [
    {
     "data": {
      "text/html": [
       "<div>\n",
       "<style scoped>\n",
       "    .dataframe tbody tr th:only-of-type {\n",
       "        vertical-align: middle;\n",
       "    }\n",
       "\n",
       "    .dataframe tbody tr th {\n",
       "        vertical-align: top;\n",
       "    }\n",
       "\n",
       "    .dataframe thead th {\n",
       "        text-align: right;\n",
       "    }\n",
       "</style>\n",
       "<table border=\"1\" class=\"dataframe\">\n",
       "  <thead>\n",
       "    <tr style=\"text-align: right;\">\n",
       "      <th></th>\n",
       "      <th>Accuracy</th>\n",
       "      <th>F1 Score</th>\n",
       "    </tr>\n",
       "  </thead>\n",
       "  <tbody>\n",
       "    <tr>\n",
       "      <th>Naive Bayes</th>\n",
       "      <td>0.540377</td>\n",
       "      <td>0.696981</td>\n",
       "    </tr>\n",
       "    <tr>\n",
       "      <th>SVM</th>\n",
       "      <td>0.498962</td>\n",
       "      <td>0.428957</td>\n",
       "    </tr>\n",
       "    <tr>\n",
       "      <th>Logistic Regression</th>\n",
       "      <td>0.527453</td>\n",
       "      <td>0.599635</td>\n",
       "    </tr>\n",
       "    <tr>\n",
       "      <th>KNearestNeighbors</th>\n",
       "      <td>0.515377</td>\n",
       "      <td>0.476274</td>\n",
       "    </tr>\n",
       "  </tbody>\n",
       "</table>\n",
       "</div>"
      ],
      "text/plain": [
       "                     Accuracy  F1 Score\n",
       "Naive Bayes          0.540377  0.696981\n",
       "SVM                  0.498962  0.428957\n",
       "Logistic Regression  0.527453  0.599635\n",
       "KNearestNeighbors    0.515377  0.476274"
      ]
     },
     "execution_count": 58,
     "metadata": {},
     "output_type": "execute_result"
    }
   ],
   "source": [
    "test_results = pd.DataFrame(data={\n",
    "    'Accuracy': acc_scores,\n",
    "    'F1 Score': f1_scores\n",
    "})\n",
    "test_results"
   ]
  },
  {
   "cell_type": "code",
   "execution_count": 59,
   "id": "b1d6ce1e",
   "metadata": {},
   "outputs": [
    {
     "data": {
      "text/plain": [
       "<AxesSubplot:title={'center':'Model Accuracy'}, ylabel='Model'>"
      ]
     },
     "execution_count": 59,
     "metadata": {},
     "output_type": "execute_result"
    },
    {
     "data": {
      "image/png": "[encoded data removed]",
      "text/plain": [
       "<Figure size 432x288 with 1 Axes>"
      ]
     },
     "metadata": {
      "needs_background": "light"
     },
     "output_type": "display_data"
    }
   ],
   "source": [
    "test_results.plot(kind='barh', y='Accuracy', title='Model Accuracy', ylabel='Model', legend=False, xlim=[0, 1])"
   ]
  },
  {
   "cell_type": "code",
   "execution_count": 60,
   "id": "b4d22a30",
   "metadata": {},
   "outputs": [
    {
     "data": {
      "text/plain": [
       "<AxesSubplot:title={'center':'Model F1 Score'}, ylabel='Model'>"
      ]
     },
     "execution_count": 60,
     "metadata": {},
     "output_type": "execute_result"
    },
    {
     "data": {
      "image/png": "[encoded data removed]",
      "text/plain": [
       "<Figure size 432x288 with 1 Axes>"
      ]
     },
     "metadata": {
      "needs_background": "light"
     },
     "output_type": "display_data"
    }
   ],
   "source": [
    "test_results.plot(kind='barh', y='F1 Score', title='Model F1 Score', xlabel='Model', xlim=[0,1])"
   ]
  },
  {
   "cell_type": "markdown",
   "id": "be9ae34e",
   "metadata": {},
   "source": [
    "## Competition Predictions"
   ]
  },
  {
   "cell_type": "code",
   "execution_count": 61,
   "id": "f9759e26",
   "metadata": {},
   "outputs": [],
   "source": [
    "id_pipe.fit(x.Pitched_Business_Identifier)\n",
    "desc_pipe.fit(x.Pitched_Business_Desc)\n",
    "training_features = feature_transform(id_pipe, desc_pipe, x)"
   ]
  },
  {
   "cell_type": "code",
   "execution_count": 62,
   "id": "b21a67d9",
   "metadata": {},
   "outputs": [
    {
     "data": {
      "text/plain": [
       "MultinomialNB()"
      ]
     },
     "execution_count": 62,
     "metadata": {},
     "output_type": "execute_result"
    }
   ],
   "source": [
    "naive_model.fit(training_features, y_labels)"
   ]
  },
  {
   "cell_type": "code",
   "execution_count": 63,
   "id": "d0ea2980",
   "metadata": {},
   "outputs": [
    {
     "data": {
      "text/plain": [
       "0.720754716981132"
      ]
     },
     "execution_count": 63,
     "metadata": {},
     "output_type": "execute_result"
    }
   ],
   "source": [
    "np.mean(y_labels == naive_model.predict(feature_transform(id_pipe, desc_pipe, x)))"
   ]
  },
  {
   "cell_type": "code",
   "execution_count": 64,
   "id": "f79e04e6",
   "metadata": {},
   "outputs": [],
   "source": [
    "# Load in test set\n",
    "test_set = pd.read_csv(os.path.join('data', 'intermediate_testset.csv'))\n",
    "test_set\n",
    "\n",
    "test_set['Pitched_Business_Identifier'] = (\n",
    "    test_set.Pitched_Business_Identifier\n",
    "        .str.lower()\n",
    "        .str.replace(r\"['-.\\\"]\", '', regex=True)\n",
    "        .str.replace(r'&', 'and', regex=True)\n",
    ")\n",
    "\n",
    "test_set['Pitched_Business_Desc'] = (\n",
    "    test_set['Pitched_Business_Desc']\n",
    "        .str.lower()\n",
    "        .str.replace(r\"['-.\\\"]\", '', regex=True)\n",
    "        .str.replace(r'&', 'and', regex=True)\n",
    "        .str.replace(r'\\s+a\\s+', ' ', regex=True)\n",
    "        .str.replace(r'\\s+an\\s+', ' ', regex=True)\n",
    "        .str.replace(r'^a\\s', '', regex=True)\n",
    "        .str.replace(r'^an\\s', '', regex=True)\n",
    ")\n",
    "\n",
    "# Create new feature for detailedness\n",
    "test_set['detailedness'] = (\n",
    "    test_set.Pitched_Business_Desc.apply(lambda x: len(x.split())) *\n",
    "    test_set.Pitched_Business_Identifier.apply(lambda x: len(x.split()))\n",
    ")\n"
   ]
  },
  {
   "cell_type": "code",
   "execution_count": 65,
   "id": "8cd84fce",
   "metadata": {},
   "outputs": [],
   "source": [
    "predictions = naive_model.predict(feature_transform(id_pipe, desc_pipe, test_set))"
   ]
  },
  {
   "cell_type": "code",
   "execution_count": 66,
   "id": "f7ea0b64",
   "metadata": {},
   "outputs": [
    {
     "data": {
      "text/html": [
       "<div>\n",
       "<style scoped>\n",
       "    .dataframe tbody tr th:only-of-type {\n",
       "        vertical-align: middle;\n",
       "    }\n",
       "\n",
       "    .dataframe tbody tr th {\n",
       "        vertical-align: top;\n",
       "    }\n",
       "\n",
       "    .dataframe thead th {\n",
       "        text-align: right;\n",
       "    }\n",
       "</style>\n",
       "<table border=\"1\" class=\"dataframe\">\n",
       "  <thead>\n",
       "    <tr style=\"text-align: right;\">\n",
       "      <th></th>\n",
       "      <th>Deal_Status</th>\n",
       "    </tr>\n",
       "  </thead>\n",
       "  <tbody>\n",
       "    <tr>\n",
       "      <th>0</th>\n",
       "      <td>1</td>\n",
       "    </tr>\n",
       "    <tr>\n",
       "      <th>1</th>\n",
       "      <td>1</td>\n",
       "    </tr>\n",
       "    <tr>\n",
       "      <th>2</th>\n",
       "      <td>1</td>\n",
       "    </tr>\n",
       "    <tr>\n",
       "      <th>3</th>\n",
       "      <td>1</td>\n",
       "    </tr>\n",
       "    <tr>\n",
       "      <th>4</th>\n",
       "      <td>1</td>\n",
       "    </tr>\n",
       "    <tr>\n",
       "      <th>...</th>\n",
       "      <td>...</td>\n",
       "    </tr>\n",
       "    <tr>\n",
       "      <th>171</th>\n",
       "      <td>1</td>\n",
       "    </tr>\n",
       "    <tr>\n",
       "      <th>172</th>\n",
       "      <td>1</td>\n",
       "    </tr>\n",
       "    <tr>\n",
       "      <th>173</th>\n",
       "      <td>1</td>\n",
       "    </tr>\n",
       "    <tr>\n",
       "      <th>174</th>\n",
       "      <td>1</td>\n",
       "    </tr>\n",
       "    <tr>\n",
       "      <th>175</th>\n",
       "      <td>0</td>\n",
       "    </tr>\n",
       "  </tbody>\n",
       "</table>\n",
       "<p>176 rows × 1 columns</p>\n",
       "</div>"
      ],
      "text/plain": [
       "     Deal_Status\n",
       "0              1\n",
       "1              1\n",
       "2              1\n",
       "3              1\n",
       "4              1\n",
       "..           ...\n",
       "171            1\n",
       "172            1\n",
       "173            1\n",
       "174            1\n",
       "175            0\n",
       "\n",
       "[176 rows x 1 columns]"
      ]
     },
     "execution_count": 66,
     "metadata": {},
     "output_type": "execute_result"
    }
   ],
   "source": [
    "# Put predictions into csv\n",
    "prediction_set = pd.DataFrame(data=predictions, columns=['Deal_Status'])\n",
    "prediction_set"
   ]
  },
  {
   "cell_type": "code",
   "execution_count": 71,
   "id": "bdfb1690",
   "metadata": {},
   "outputs": [
    {
     "data": {
      "text/plain": [
       "0.9829545454545454"
      ]
     },
     "execution_count": 71,
     "metadata": {},
     "output_type": "execute_result"
    }
   ],
   "source": [
    "np.mean(predictions)"
   ]
  },
  {
   "cell_type": "code",
   "execution_count": 72,
   "id": "b226c209",
   "metadata": {},
   "outputs": [
    {
     "data": {
      "text/plain": [
       "173"
      ]
     },
     "execution_count": 72,
     "metadata": {},
     "output_type": "execute_result"
    }
   ],
   "source": [
    "np.sum(predictions)"
   ]
  },
  {
   "cell_type": "code",
   "execution_count": 67,
   "id": "bc2d29bc",
   "metadata": {},
   "outputs": [
    {
     "data": {
      "text/plain": [
       "array([1, 1, 1, 1, 1, 1, 1, 1, 1, 1, 0, 1, 1, 1, 1, 1, 1, 1, 1, 1, 1, 1,\n",
       "       1, 1, 1, 1, 1, 1, 1, 1, 1, 1, 1, 1, 1, 1, 1, 1, 1, 1, 1, 1, 1, 1,\n",
       "       1, 1, 1, 1, 1, 1, 1, 1, 1, 1, 1, 1, 1, 1, 1, 1, 1, 1, 1, 1, 1, 1,\n",
       "       1, 1, 1, 1, 1, 1, 1, 1, 1, 1, 1, 1, 1, 1, 1, 1, 1, 1, 1, 1, 1, 1,\n",
       "       1, 1, 1, 1, 1, 1, 1, 1, 1, 1, 1, 1, 1, 1, 1, 1, 1, 1, 1, 0, 1, 1,\n",
       "       1, 1, 1, 1, 1, 1, 1, 1, 1, 1, 1, 1, 1, 1, 1, 1, 1, 1, 1, 1, 1, 1,\n",
       "       1, 1, 1, 1, 1, 1, 1, 1, 1, 1, 1, 1, 1, 1, 1, 1, 1, 1, 1, 1, 1, 1,\n",
       "       1, 1, 1, 1, 1, 1, 1, 1, 1, 1, 1, 1, 1, 1, 1, 1, 1, 1, 1, 1, 1, 0],\n",
       "      dtype=int64)"
      ]
     },
     "execution_count": 67,
     "metadata": {},
     "output_type": "execute_result"
    }
   ],
   "source": [
    "predictions"
   ]
  },
  {
   "cell_type": "code",
   "execution_count": 68,
   "id": "6bec5250",
   "metadata": {},
   "outputs": [],
   "source": [
    "# Export dataset\n",
    "with open(os.path.join('data', 'predictions.csv'), 'w', encoding='utf-8', newline='') as output:\n",
    "    output.write(prediction_set.to_csv(index=False, mode='a'))"
   ]
  },
  {
   "cell_type": "code",
   "execution_count": 69,
   "id": "184e625e",
   "metadata": {
    "scrolled": false
   },
   "outputs": [
    {
     "data": {
      "text/html": [
       "<div>\n",
       "<style scoped>\n",
       "    .dataframe tbody tr th:only-of-type {\n",
       "        vertical-align: middle;\n",
       "    }\n",
       "\n",
       "    .dataframe tbody tr th {\n",
       "        vertical-align: top;\n",
       "    }\n",
       "\n",
       "    .dataframe thead th {\n",
       "        text-align: right;\n",
       "    }\n",
       "</style>\n",
       "<table border=\"1\" class=\"dataframe\">\n",
       "  <thead>\n",
       "    <tr style=\"text-align: right;\">\n",
       "      <th></th>\n",
       "      <th>Deal_Status</th>\n",
       "    </tr>\n",
       "  </thead>\n",
       "  <tbody>\n",
       "    <tr>\n",
       "      <th>0</th>\n",
       "      <td>1</td>\n",
       "    </tr>\n",
       "    <tr>\n",
       "      <th>1</th>\n",
       "      <td>1</td>\n",
       "    </tr>\n",
       "    <tr>\n",
       "      <th>2</th>\n",
       "      <td>1</td>\n",
       "    </tr>\n",
       "    <tr>\n",
       "      <th>3</th>\n",
       "      <td>1</td>\n",
       "    </tr>\n",
       "    <tr>\n",
       "      <th>4</th>\n",
       "      <td>1</td>\n",
       "    </tr>\n",
       "    <tr>\n",
       "      <th>...</th>\n",
       "      <td>...</td>\n",
       "    </tr>\n",
       "    <tr>\n",
       "      <th>171</th>\n",
       "      <td>1</td>\n",
       "    </tr>\n",
       "    <tr>\n",
       "      <th>172</th>\n",
       "      <td>1</td>\n",
       "    </tr>\n",
       "    <tr>\n",
       "      <th>173</th>\n",
       "      <td>1</td>\n",
       "    </tr>\n",
       "    <tr>\n",
       "      <th>174</th>\n",
       "      <td>1</td>\n",
       "    </tr>\n",
       "    <tr>\n",
       "      <th>175</th>\n",
       "      <td>0</td>\n",
       "    </tr>\n",
       "  </tbody>\n",
       "</table>\n",
       "<p>176 rows × 1 columns</p>\n",
       "</div>"
      ],
      "text/plain": [
       "     Deal_Status\n",
       "0              1\n",
       "1              1\n",
       "2              1\n",
       "3              1\n",
       "4              1\n",
       "..           ...\n",
       "171            1\n",
       "172            1\n",
       "173            1\n",
       "174            1\n",
       "175            0\n",
       "\n",
       "[176 rows x 1 columns]"
      ]
     },
     "execution_count": 69,
     "metadata": {},
     "output_type": "execute_result"
    }
   ],
   "source": [
    "pd.read_csv(os.path.join('data', 'predictions.csv'))"
   ]
  }
 ],
 "metadata": {
  "kernelspec": {
   "display_name": "Python 3",
   "language": "python",
   "name": "python3"
  },
  "language_info": {
   "codemirror_mode": {
    "name": "ipython",
    "version": 3
   },
   "file_extension": ".py",
   "mimetype": "text/x-python",
   "name": "python",
   "nbconvert_exporter": "python",
   "pygments_lexer": "ipython3",
   "version": "3.8.5"
  }
 },
 "nbformat": 4,
 "nbformat_minor": 5
}
